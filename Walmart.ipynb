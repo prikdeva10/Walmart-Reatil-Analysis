{
 "cells": [
  {
   "cell_type": "code",
   "execution_count": 1,
   "id": "363f8432",
   "metadata": {},
   "outputs": [],
   "source": [
    "import numpy as np\n",
    "import pandas as pd\n",
    "import matplotlib.pyplot as plt\n",
    "import seaborn as sns"
   ]
  },
  {
   "cell_type": "markdown",
   "id": "792883d7",
   "metadata": {},
   "source": [
    "## Importing the Dataset"
   ]
  },
  {
   "cell_type": "code",
   "execution_count": 2,
   "id": "cf50b5bf",
   "metadata": {},
   "outputs": [
    {
     "data": {
      "text/html": [
       "<div>\n",
       "<style scoped>\n",
       "    .dataframe tbody tr th:only-of-type {\n",
       "        vertical-align: middle;\n",
       "    }\n",
       "\n",
       "    .dataframe tbody tr th {\n",
       "        vertical-align: top;\n",
       "    }\n",
       "\n",
       "    .dataframe thead th {\n",
       "        text-align: right;\n",
       "    }\n",
       "</style>\n",
       "<table border=\"1\" class=\"dataframe\">\n",
       "  <thead>\n",
       "    <tr style=\"text-align: right;\">\n",
       "      <th></th>\n",
       "      <th>Store</th>\n",
       "      <th>Date</th>\n",
       "      <th>Weekly_Sales</th>\n",
       "      <th>Holiday_Flag</th>\n",
       "      <th>Temperature</th>\n",
       "      <th>Fuel_Price</th>\n",
       "      <th>CPI</th>\n",
       "      <th>Unemployment</th>\n",
       "    </tr>\n",
       "  </thead>\n",
       "  <tbody>\n",
       "    <tr>\n",
       "      <th>0</th>\n",
       "      <td>1</td>\n",
       "      <td>05-02-2010</td>\n",
       "      <td>1643690.90</td>\n",
       "      <td>0</td>\n",
       "      <td>42.31</td>\n",
       "      <td>2.572</td>\n",
       "      <td>211.096358</td>\n",
       "      <td>8.106</td>\n",
       "    </tr>\n",
       "    <tr>\n",
       "      <th>1</th>\n",
       "      <td>1</td>\n",
       "      <td>12-02-2010</td>\n",
       "      <td>1641957.44</td>\n",
       "      <td>1</td>\n",
       "      <td>38.51</td>\n",
       "      <td>2.548</td>\n",
       "      <td>211.242170</td>\n",
       "      <td>8.106</td>\n",
       "    </tr>\n",
       "    <tr>\n",
       "      <th>2</th>\n",
       "      <td>1</td>\n",
       "      <td>19-02-2010</td>\n",
       "      <td>1611968.17</td>\n",
       "      <td>0</td>\n",
       "      <td>39.93</td>\n",
       "      <td>2.514</td>\n",
       "      <td>211.289143</td>\n",
       "      <td>8.106</td>\n",
       "    </tr>\n",
       "    <tr>\n",
       "      <th>3</th>\n",
       "      <td>1</td>\n",
       "      <td>26-02-2010</td>\n",
       "      <td>1409727.59</td>\n",
       "      <td>0</td>\n",
       "      <td>46.63</td>\n",
       "      <td>2.561</td>\n",
       "      <td>211.319643</td>\n",
       "      <td>8.106</td>\n",
       "    </tr>\n",
       "    <tr>\n",
       "      <th>4</th>\n",
       "      <td>1</td>\n",
       "      <td>05-03-2010</td>\n",
       "      <td>1554806.68</td>\n",
       "      <td>0</td>\n",
       "      <td>46.50</td>\n",
       "      <td>2.625</td>\n",
       "      <td>211.350143</td>\n",
       "      <td>8.106</td>\n",
       "    </tr>\n",
       "  </tbody>\n",
       "</table>\n",
       "</div>"
      ],
      "text/plain": [
       "   Store        Date  Weekly_Sales  Holiday_Flag  Temperature  Fuel_Price  \\\n",
       "0      1  05-02-2010    1643690.90             0        42.31       2.572   \n",
       "1      1  12-02-2010    1641957.44             1        38.51       2.548   \n",
       "2      1  19-02-2010    1611968.17             0        39.93       2.514   \n",
       "3      1  26-02-2010    1409727.59             0        46.63       2.561   \n",
       "4      1  05-03-2010    1554806.68             0        46.50       2.625   \n",
       "\n",
       "          CPI  Unemployment  \n",
       "0  211.096358         8.106  \n",
       "1  211.242170         8.106  \n",
       "2  211.289143         8.106  \n",
       "3  211.319643         8.106  \n",
       "4  211.350143         8.106  "
      ]
     },
     "execution_count": 2,
     "metadata": {},
     "output_type": "execute_result"
    }
   ],
   "source": [
    "df = pd.read_csv('Walmart_Store_sales.csv')\n",
    "df.head()"
   ]
  },
  {
   "cell_type": "code",
   "execution_count": 3,
   "id": "3c3dbc4e",
   "metadata": {},
   "outputs": [
    {
     "data": {
      "text/plain": [
       "(6435, 8)"
      ]
     },
     "execution_count": 3,
     "metadata": {},
     "output_type": "execute_result"
    }
   ],
   "source": [
    "df.shape"
   ]
  },
  {
   "cell_type": "code",
   "execution_count": 4,
   "id": "6110452b",
   "metadata": {},
   "outputs": [
    {
     "data": {
      "text/plain": [
       "array([ 1,  2,  3,  4,  5,  6,  7,  8,  9, 10, 11, 12, 13, 14, 15, 16, 17,\n",
       "       18, 19, 20, 21, 22, 23, 24, 25, 26, 27, 28, 29, 30, 31, 32, 33, 34,\n",
       "       35, 36, 37, 38, 39, 40, 41, 42, 43, 44, 45])"
      ]
     },
     "execution_count": 4,
     "metadata": {},
     "output_type": "execute_result"
    }
   ],
   "source": [
    "df['Store'].unique()"
   ]
  },
  {
   "cell_type": "markdown",
   "id": "f4d0df15",
   "metadata": {},
   "source": [
    "### Which store has maximum sales"
   ]
  },
  {
   "cell_type": "code",
   "execution_count": 5,
   "id": "618fdf92",
   "metadata": {},
   "outputs": [],
   "source": [
    "a = df.groupby(['Store'])['Weekly_Sales'].sum()"
   ]
  },
  {
   "cell_type": "code",
   "execution_count": 6,
   "id": "30f76dc1",
   "metadata": {},
   "outputs": [
    {
     "data": {
      "text/plain": [
       "Store\n",
       "1    2.224028e+08\n",
       "2    2.753824e+08\n",
       "3    5.758674e+07\n",
       "4    2.995440e+08\n",
       "5    4.547569e+07\n",
       "Name: Weekly_Sales, dtype: float64"
      ]
     },
     "execution_count": 6,
     "metadata": {},
     "output_type": "execute_result"
    }
   ],
   "source": [
    "a.head()"
   ]
  },
  {
   "cell_type": "code",
   "execution_count": 7,
   "id": "acbc0099",
   "metadata": {},
   "outputs": [
    {
     "name": "stdout",
     "output_type": "stream",
     "text": [
      "Store with Max sale :  20\n",
      "Max Value of sale :  301397792.46\n"
     ]
    }
   ],
   "source": [
    "print('Store with Max sale : ',a.idxmax())\n",
    "print('Max Value of sale : ',a.max())"
   ]
  },
  {
   "cell_type": "markdown",
   "id": "67aeec21",
   "metadata": {},
   "source": [
    "### Which store has maximum standard deviation i.e., the sales vary a lot. Also, find out the coefficient of mean to standard deviation\n",
    "\n"
   ]
  },
  {
   "cell_type": "code",
   "execution_count": 8,
   "id": "97df845c",
   "metadata": {},
   "outputs": [],
   "source": [
    "stda = df.groupby(['Store'])['Weekly_Sales'].std()"
   ]
  },
  {
   "cell_type": "code",
   "execution_count": 9,
   "id": "35b6b3ed",
   "metadata": {},
   "outputs": [
    {
     "name": "stdout",
     "output_type": "stream",
     "text": [
      "Store with max STD :  14\n",
      "MAx Value of STD :  317569.9494755081\n"
     ]
    }
   ],
   "source": [
    "print('Store with max STD : ',stda.idxmax())\n",
    "print('MAx Value of STD : ',stda.max())"
   ]
  },
  {
   "cell_type": "code",
   "execution_count": 10,
   "id": "5abd2a65",
   "metadata": {},
   "outputs": [
    {
     "data": {
      "text/html": [
       "<div>\n",
       "<style scoped>\n",
       "    .dataframe tbody tr th:only-of-type {\n",
       "        vertical-align: middle;\n",
       "    }\n",
       "\n",
       "    .dataframe tbody tr th {\n",
       "        vertical-align: top;\n",
       "    }\n",
       "\n",
       "    .dataframe thead tr th {\n",
       "        text-align: left;\n",
       "    }\n",
       "\n",
       "    .dataframe thead tr:last-of-type th {\n",
       "        text-align: right;\n",
       "    }\n",
       "</style>\n",
       "<table border=\"1\" class=\"dataframe\">\n",
       "  <thead>\n",
       "    <tr>\n",
       "      <th></th>\n",
       "      <th colspan=\"2\" halign=\"left\">Weekly_Sales</th>\n",
       "    </tr>\n",
       "    <tr>\n",
       "      <th></th>\n",
       "      <th>mean</th>\n",
       "      <th>std</th>\n",
       "    </tr>\n",
       "    <tr>\n",
       "      <th>Store</th>\n",
       "      <th></th>\n",
       "      <th></th>\n",
       "    </tr>\n",
       "  </thead>\n",
       "  <tbody>\n",
       "    <tr>\n",
       "      <th>1</th>\n",
       "      <td>1.555264e+06</td>\n",
       "      <td>155980.767761</td>\n",
       "    </tr>\n",
       "    <tr>\n",
       "      <th>2</th>\n",
       "      <td>1.925751e+06</td>\n",
       "      <td>237683.694682</td>\n",
       "    </tr>\n",
       "    <tr>\n",
       "      <th>3</th>\n",
       "      <td>4.027044e+05</td>\n",
       "      <td>46319.631557</td>\n",
       "    </tr>\n",
       "    <tr>\n",
       "      <th>4</th>\n",
       "      <td>2.094713e+06</td>\n",
       "      <td>266201.442297</td>\n",
       "    </tr>\n",
       "    <tr>\n",
       "      <th>5</th>\n",
       "      <td>3.180118e+05</td>\n",
       "      <td>37737.965745</td>\n",
       "    </tr>\n",
       "  </tbody>\n",
       "</table>\n",
       "</div>"
      ],
      "text/plain": [
       "       Weekly_Sales               \n",
       "               mean            std\n",
       "Store                             \n",
       "1      1.555264e+06  155980.767761\n",
       "2      1.925751e+06  237683.694682\n",
       "3      4.027044e+05   46319.631557\n",
       "4      2.094713e+06  266201.442297\n",
       "5      3.180118e+05   37737.965745"
      ]
     },
     "execution_count": 10,
     "metadata": {},
     "output_type": "execute_result"
    }
   ],
   "source": [
    "st = df.groupby('Store').agg({'Weekly_Sales':['mean','std']})\n",
    "st.head()"
   ]
  },
  {
   "cell_type": "markdown",
   "id": "9a5aed35",
   "metadata": {},
   "source": [
    "### Which stores has good quarterly growth rate in Q3’2012"
   ]
  },
  {
   "cell_type": "code",
   "execution_count": 11,
   "id": "b8089d76",
   "metadata": {},
   "outputs": [],
   "source": [
    "q3 = df[(pd.to_datetime(df['Date']) >= pd.to_datetime('07-01-2012')) & (pd.to_datetime(df['Date']) <= pd.to_datetime('09-30-2012'))]\n",
    "q2 = df[(pd.to_datetime(df['Date']) >= pd.to_datetime('04-01-2012')) & (pd.to_datetime(df['Date']) <= pd.to_datetime('06-30-2012'))]"
   ]
  },
  {
   "cell_type": "code",
   "execution_count": 12,
   "id": "10cf54b2",
   "metadata": {},
   "outputs": [
    {
     "data": {
      "text/html": [
       "<div>\n",
       "<style scoped>\n",
       "    .dataframe tbody tr th:only-of-type {\n",
       "        vertical-align: middle;\n",
       "    }\n",
       "\n",
       "    .dataframe tbody tr th {\n",
       "        vertical-align: top;\n",
       "    }\n",
       "\n",
       "    .dataframe thead th {\n",
       "        text-align: right;\n",
       "    }\n",
       "</style>\n",
       "<table border=\"1\" class=\"dataframe\">\n",
       "  <thead>\n",
       "    <tr style=\"text-align: right;\">\n",
       "      <th></th>\n",
       "      <th>Store</th>\n",
       "      <th>Date</th>\n",
       "      <th>Weekly_Sales</th>\n",
       "      <th>Holiday_Flag</th>\n",
       "      <th>Temperature</th>\n",
       "      <th>Fuel_Price</th>\n",
       "      <th>CPI</th>\n",
       "      <th>Unemployment</th>\n",
       "    </tr>\n",
       "  </thead>\n",
       "  <tbody>\n",
       "    <tr>\n",
       "      <th>109</th>\n",
       "      <td>1</td>\n",
       "      <td>09-03-2012</td>\n",
       "      <td>1675431.16</td>\n",
       "      <td>0</td>\n",
       "      <td>58.76</td>\n",
       "      <td>3.669</td>\n",
       "      <td>221.059189</td>\n",
       "      <td>7.348</td>\n",
       "    </tr>\n",
       "    <tr>\n",
       "      <th>122</th>\n",
       "      <td>1</td>\n",
       "      <td>08-06-2012</td>\n",
       "      <td>1697230.96</td>\n",
       "      <td>0</td>\n",
       "      <td>78.30</td>\n",
       "      <td>3.452</td>\n",
       "      <td>221.749484</td>\n",
       "      <td>7.143</td>\n",
       "    </tr>\n",
       "    <tr>\n",
       "      <th>127</th>\n",
       "      <td>1</td>\n",
       "      <td>13-07-2012</td>\n",
       "      <td>1527014.04</td>\n",
       "      <td>0</td>\n",
       "      <td>77.12</td>\n",
       "      <td>3.256</td>\n",
       "      <td>221.924158</td>\n",
       "      <td>6.908</td>\n",
       "    </tr>\n",
       "    <tr>\n",
       "      <th>128</th>\n",
       "      <td>1</td>\n",
       "      <td>20-07-2012</td>\n",
       "      <td>1497954.76</td>\n",
       "      <td>0</td>\n",
       "      <td>80.42</td>\n",
       "      <td>3.311</td>\n",
       "      <td>221.932727</td>\n",
       "      <td>6.908</td>\n",
       "    </tr>\n",
       "    <tr>\n",
       "      <th>129</th>\n",
       "      <td>1</td>\n",
       "      <td>27-07-2012</td>\n",
       "      <td>1439123.71</td>\n",
       "      <td>0</td>\n",
       "      <td>82.66</td>\n",
       "      <td>3.407</td>\n",
       "      <td>221.941295</td>\n",
       "      <td>6.908</td>\n",
       "    </tr>\n",
       "  </tbody>\n",
       "</table>\n",
       "</div>"
      ],
      "text/plain": [
       "     Store        Date  Weekly_Sales  Holiday_Flag  Temperature  Fuel_Price  \\\n",
       "109      1  09-03-2012    1675431.16             0        58.76       3.669   \n",
       "122      1  08-06-2012    1697230.96             0        78.30       3.452   \n",
       "127      1  13-07-2012    1527014.04             0        77.12       3.256   \n",
       "128      1  20-07-2012    1497954.76             0        80.42       3.311   \n",
       "129      1  27-07-2012    1439123.71             0        82.66       3.407   \n",
       "\n",
       "            CPI  Unemployment  \n",
       "109  221.059189         7.348  \n",
       "122  221.749484         7.143  \n",
       "127  221.924158         6.908  \n",
       "128  221.932727         6.908  \n",
       "129  221.941295         6.908  "
      ]
     },
     "execution_count": 12,
     "metadata": {},
     "output_type": "execute_result"
    }
   ],
   "source": [
    "q3.head()"
   ]
  },
  {
   "cell_type": "code",
   "execution_count": 13,
   "id": "d9079f69",
   "metadata": {},
   "outputs": [
    {
     "data": {
      "text/html": [
       "<div>\n",
       "<style scoped>\n",
       "    .dataframe tbody tr th:only-of-type {\n",
       "        vertical-align: middle;\n",
       "    }\n",
       "\n",
       "    .dataframe tbody tr th {\n",
       "        vertical-align: top;\n",
       "    }\n",
       "\n",
       "    .dataframe thead th {\n",
       "        text-align: right;\n",
       "    }\n",
       "</style>\n",
       "<table border=\"1\" class=\"dataframe\">\n",
       "  <thead>\n",
       "    <tr style=\"text-align: right;\">\n",
       "      <th></th>\n",
       "      <th>Store</th>\n",
       "      <th>Date</th>\n",
       "      <th>Weekly_Sales</th>\n",
       "      <th>Holiday_Flag</th>\n",
       "      <th>Temperature</th>\n",
       "      <th>Fuel_Price</th>\n",
       "      <th>CPI</th>\n",
       "      <th>Unemployment</th>\n",
       "    </tr>\n",
       "  </thead>\n",
       "  <tbody>\n",
       "    <tr>\n",
       "      <th>100</th>\n",
       "      <td>1</td>\n",
       "      <td>06-01-2012</td>\n",
       "      <td>1550369.92</td>\n",
       "      <td>0</td>\n",
       "      <td>49.01</td>\n",
       "      <td>3.157</td>\n",
       "      <td>219.714258</td>\n",
       "      <td>7.348</td>\n",
       "    </tr>\n",
       "    <tr>\n",
       "      <th>113</th>\n",
       "      <td>1</td>\n",
       "      <td>06-04-2012</td>\n",
       "      <td>1899676.88</td>\n",
       "      <td>0</td>\n",
       "      <td>70.43</td>\n",
       "      <td>3.891</td>\n",
       "      <td>221.435611</td>\n",
       "      <td>7.143</td>\n",
       "    </tr>\n",
       "    <tr>\n",
       "      <th>114</th>\n",
       "      <td>1</td>\n",
       "      <td>13-04-2012</td>\n",
       "      <td>1621031.70</td>\n",
       "      <td>0</td>\n",
       "      <td>69.07</td>\n",
       "      <td>3.891</td>\n",
       "      <td>221.510210</td>\n",
       "      <td>7.143</td>\n",
       "    </tr>\n",
       "    <tr>\n",
       "      <th>115</th>\n",
       "      <td>1</td>\n",
       "      <td>20-04-2012</td>\n",
       "      <td>1521577.87</td>\n",
       "      <td>0</td>\n",
       "      <td>66.76</td>\n",
       "      <td>3.877</td>\n",
       "      <td>221.564074</td>\n",
       "      <td>7.143</td>\n",
       "    </tr>\n",
       "    <tr>\n",
       "      <th>116</th>\n",
       "      <td>1</td>\n",
       "      <td>27-04-2012</td>\n",
       "      <td>1468928.37</td>\n",
       "      <td>0</td>\n",
       "      <td>67.23</td>\n",
       "      <td>3.814</td>\n",
       "      <td>221.617937</td>\n",
       "      <td>7.143</td>\n",
       "    </tr>\n",
       "  </tbody>\n",
       "</table>\n",
       "</div>"
      ],
      "text/plain": [
       "     Store        Date  Weekly_Sales  Holiday_Flag  Temperature  Fuel_Price  \\\n",
       "100      1  06-01-2012    1550369.92             0        49.01       3.157   \n",
       "113      1  06-04-2012    1899676.88             0        70.43       3.891   \n",
       "114      1  13-04-2012    1621031.70             0        69.07       3.891   \n",
       "115      1  20-04-2012    1521577.87             0        66.76       3.877   \n",
       "116      1  27-04-2012    1468928.37             0        67.23       3.814   \n",
       "\n",
       "            CPI  Unemployment  \n",
       "100  219.714258         7.348  \n",
       "113  221.435611         7.143  \n",
       "114  221.510210         7.143  \n",
       "115  221.564074         7.143  \n",
       "116  221.617937         7.143  "
      ]
     },
     "execution_count": 13,
     "metadata": {},
     "output_type": "execute_result"
    }
   ],
   "source": [
    "q2.head()"
   ]
  },
  {
   "cell_type": "code",
   "execution_count": 14,
   "id": "00fb3104",
   "metadata": {},
   "outputs": [
    {
     "name": "stderr",
     "output_type": "stream",
     "text": [
      "/var/folders/gw/08ys_qm54ks74dkzmn84tw880000gn/T/ipykernel_83339/3994790714.py:1: SettingWithCopyWarning: \n",
      "A value is trying to be set on a copy of a slice from a DataFrame.\n",
      "Try using .loc[row_indexer,col_indexer] = value instead\n",
      "\n",
      "See the caveats in the documentation: https://pandas.pydata.org/pandas-docs/stable/user_guide/indexing.html#returning-a-view-versus-a-copy\n",
      "  q2['Date'] = pd.to_datetime(q2['Date'])\n"
     ]
    }
   ],
   "source": [
    "q2['Date'] = pd.to_datetime(q2['Date'])"
   ]
  },
  {
   "cell_type": "code",
   "execution_count": 15,
   "id": "d65c1277",
   "metadata": {},
   "outputs": [
    {
     "name": "stderr",
     "output_type": "stream",
     "text": [
      "/var/folders/gw/08ys_qm54ks74dkzmn84tw880000gn/T/ipykernel_83339/614829840.py:1: SettingWithCopyWarning: \n",
      "A value is trying to be set on a copy of a slice from a DataFrame.\n",
      "Try using .loc[row_indexer,col_indexer] = value instead\n",
      "\n",
      "See the caveats in the documentation: https://pandas.pydata.org/pandas-docs/stable/user_guide/indexing.html#returning-a-view-versus-a-copy\n",
      "  q3['Date'] = pd.to_datetime(q3['Date'])\n"
     ]
    }
   ],
   "source": [
    "q3['Date'] = pd.to_datetime(q3['Date'])"
   ]
  },
  {
   "cell_type": "code",
   "execution_count": 16,
   "id": "1d5db62d",
   "metadata": {},
   "outputs": [],
   "source": [
    "q2sum = q2.groupby(['Store'])['Weekly_Sales'].sum()"
   ]
  },
  {
   "cell_type": "code",
   "execution_count": 17,
   "id": "9c68402e",
   "metadata": {},
   "outputs": [],
   "source": [
    "q3sum = q3.groupby(['Store'])['Weekly_Sales'].sum()"
   ]
  },
  {
   "cell_type": "code",
   "execution_count": 18,
   "id": "c0d7652f",
   "metadata": {},
   "outputs": [],
   "source": [
    "b = q3sum - q2sum"
   ]
  },
  {
   "cell_type": "code",
   "execution_count": 19,
   "id": "26c9b397",
   "metadata": {},
   "outputs": [
    {
     "name": "stdout",
     "output_type": "stream",
     "text": [
      "Store with best growth rate :  16\n",
      "The Growth of the store :  -184822.33000000007\n"
     ]
    }
   ],
   "source": [
    "print('Store with best growth rate : ',b.idxmax())\n",
    "print('The Growth of the store : ',b.max())"
   ]
  },
  {
   "cell_type": "code",
   "execution_count": 20,
   "id": "640db948",
   "metadata": {},
   "outputs": [],
   "source": [
    "#we can see from the above data, that sales declined in the third quarter as compared to the second quarter"
   ]
  },
  {
   "cell_type": "markdown",
   "id": "141362a1",
   "metadata": {},
   "source": [
    "### Some holidays have a negative impact on sales. Find out holidays which have higher sales than the mean sales in non-holiday season for all stores together\n",
    "\n"
   ]
  },
  {
   "cell_type": "code",
   "execution_count": 21,
   "id": "df92f883",
   "metadata": {},
   "outputs": [],
   "source": [
    "df['DateTime'] = pd.to_datetime(df['Date'])"
   ]
  },
  {
   "cell_type": "code",
   "execution_count": 22,
   "id": "a2928fbb",
   "metadata": {},
   "outputs": [
    {
     "data": {
      "text/html": [
       "<div>\n",
       "<style scoped>\n",
       "    .dataframe tbody tr th:only-of-type {\n",
       "        vertical-align: middle;\n",
       "    }\n",
       "\n",
       "    .dataframe tbody tr th {\n",
       "        vertical-align: top;\n",
       "    }\n",
       "\n",
       "    .dataframe thead th {\n",
       "        text-align: right;\n",
       "    }\n",
       "</style>\n",
       "<table border=\"1\" class=\"dataframe\">\n",
       "  <thead>\n",
       "    <tr style=\"text-align: right;\">\n",
       "      <th></th>\n",
       "      <th>Store</th>\n",
       "      <th>Date</th>\n",
       "      <th>Weekly_Sales</th>\n",
       "      <th>Holiday_Flag</th>\n",
       "      <th>Temperature</th>\n",
       "      <th>Fuel_Price</th>\n",
       "      <th>CPI</th>\n",
       "      <th>Unemployment</th>\n",
       "      <th>DateTime</th>\n",
       "    </tr>\n",
       "  </thead>\n",
       "  <tbody>\n",
       "    <tr>\n",
       "      <th>0</th>\n",
       "      <td>1</td>\n",
       "      <td>05-02-2010</td>\n",
       "      <td>1643690.90</td>\n",
       "      <td>0</td>\n",
       "      <td>42.31</td>\n",
       "      <td>2.572</td>\n",
       "      <td>211.096358</td>\n",
       "      <td>8.106</td>\n",
       "      <td>2010-05-02</td>\n",
       "    </tr>\n",
       "    <tr>\n",
       "      <th>1</th>\n",
       "      <td>1</td>\n",
       "      <td>12-02-2010</td>\n",
       "      <td>1641957.44</td>\n",
       "      <td>1</td>\n",
       "      <td>38.51</td>\n",
       "      <td>2.548</td>\n",
       "      <td>211.242170</td>\n",
       "      <td>8.106</td>\n",
       "      <td>2010-12-02</td>\n",
       "    </tr>\n",
       "    <tr>\n",
       "      <th>2</th>\n",
       "      <td>1</td>\n",
       "      <td>19-02-2010</td>\n",
       "      <td>1611968.17</td>\n",
       "      <td>0</td>\n",
       "      <td>39.93</td>\n",
       "      <td>2.514</td>\n",
       "      <td>211.289143</td>\n",
       "      <td>8.106</td>\n",
       "      <td>2010-02-19</td>\n",
       "    </tr>\n",
       "    <tr>\n",
       "      <th>3</th>\n",
       "      <td>1</td>\n",
       "      <td>26-02-2010</td>\n",
       "      <td>1409727.59</td>\n",
       "      <td>0</td>\n",
       "      <td>46.63</td>\n",
       "      <td>2.561</td>\n",
       "      <td>211.319643</td>\n",
       "      <td>8.106</td>\n",
       "      <td>2010-02-26</td>\n",
       "    </tr>\n",
       "    <tr>\n",
       "      <th>4</th>\n",
       "      <td>1</td>\n",
       "      <td>05-03-2010</td>\n",
       "      <td>1554806.68</td>\n",
       "      <td>0</td>\n",
       "      <td>46.50</td>\n",
       "      <td>2.625</td>\n",
       "      <td>211.350143</td>\n",
       "      <td>8.106</td>\n",
       "      <td>2010-05-03</td>\n",
       "    </tr>\n",
       "  </tbody>\n",
       "</table>\n",
       "</div>"
      ],
      "text/plain": [
       "   Store        Date  Weekly_Sales  Holiday_Flag  Temperature  Fuel_Price  \\\n",
       "0      1  05-02-2010    1643690.90             0        42.31       2.572   \n",
       "1      1  12-02-2010    1641957.44             1        38.51       2.548   \n",
       "2      1  19-02-2010    1611968.17             0        39.93       2.514   \n",
       "3      1  26-02-2010    1409727.59             0        46.63       2.561   \n",
       "4      1  05-03-2010    1554806.68             0        46.50       2.625   \n",
       "\n",
       "          CPI  Unemployment   DateTime  \n",
       "0  211.096358         8.106 2010-05-02  \n",
       "1  211.242170         8.106 2010-12-02  \n",
       "2  211.289143         8.106 2010-02-19  \n",
       "3  211.319643         8.106 2010-02-26  \n",
       "4  211.350143         8.106 2010-05-03  "
      ]
     },
     "execution_count": 22,
     "metadata": {},
     "output_type": "execute_result"
    }
   ],
   "source": [
    "df.head()"
   ]
  },
  {
   "cell_type": "code",
   "execution_count": 23,
   "id": "59517eb3",
   "metadata": {},
   "outputs": [],
   "source": [
    "#first we will list the holidays\n",
    "#Super Bowl: 12-Feb-10, 11-Feb-11, 10-Feb-12, 8-Feb-13\n",
    "#Labour Day: 10-Sep-10, 9-Sep-11, 7-Sep-12, 6-Sep-13\n",
    "#Thanksgiving: 26-Nov-10, 25-Nov-11, 23-Nov-12, 29-Nov-13\n",
    "#Christmas: 31-Dec-10, 30-Dec-11, 28-Dec-12, 27-Dec-13"
   ]
  },
  {
   "cell_type": "code",
   "execution_count": 24,
   "id": "26b7249d",
   "metadata": {},
   "outputs": [],
   "source": [
    "#now we will divide create a new dataframe and save the sales from holiday week\n",
    "holweek = df[df['Holiday_Flag'] == 1]"
   ]
  },
  {
   "cell_type": "code",
   "execution_count": 25,
   "id": "8c8d3dad",
   "metadata": {},
   "outputs": [],
   "source": [
    "norweek = df[df['Holiday_Flag'] == 0]"
   ]
  },
  {
   "cell_type": "code",
   "execution_count": 26,
   "id": "f0af172c",
   "metadata": {},
   "outputs": [],
   "source": [
    "means = df['Weekly_Sales'].mean()"
   ]
  },
  {
   "cell_type": "code",
   "execution_count": 27,
   "id": "5a5d0838",
   "metadata": {},
   "outputs": [
    {
     "data": {
      "text/plain": [
       "1046964.8775617732"
      ]
     },
     "execution_count": 27,
     "metadata": {},
     "output_type": "execute_result"
    }
   ],
   "source": [
    "means"
   ]
  },
  {
   "cell_type": "code",
   "execution_count": 28,
   "id": "d33311af",
   "metadata": {},
   "outputs": [],
   "source": [
    "sup = holweek[(holweek['Date'] == '12-02-2010') |(holweek['Date'] == '11-02-2011')|(holweek['Date'] == '10-02-2012')]"
   ]
  },
  {
   "cell_type": "code",
   "execution_count": 29,
   "id": "5ddd65ba",
   "metadata": {},
   "outputs": [],
   "source": [
    "superbowlsales = sup['Weekly_Sales'].mean()"
   ]
  },
  {
   "cell_type": "code",
   "execution_count": 30,
   "id": "41727cd1",
   "metadata": {},
   "outputs": [],
   "source": [
    "lab = holweek[(holweek['Date'] == '10-09-2010') | (holweek['Date'] == '09-09-2011') | (holweek['Date'] == '07-09-2012')]"
   ]
  },
  {
   "cell_type": "code",
   "execution_count": 31,
   "id": "ed019451",
   "metadata": {},
   "outputs": [],
   "source": [
    "labourdaysales = lab['Weekly_Sales'].mean()"
   ]
  },
  {
   "cell_type": "code",
   "execution_count": 32,
   "id": "fa3ed411",
   "metadata": {},
   "outputs": [],
   "source": [
    "tha = holweek[(holweek['Date'] == '26-11-2010') | (holweek['Date'] == '25-11-2011') | (holweek['Date'] == '23-11-2012')]"
   ]
  },
  {
   "cell_type": "code",
   "execution_count": 33,
   "id": "e768192e",
   "metadata": {},
   "outputs": [],
   "source": [
    "thanksgivingsales = tha['Weekly_Sales'].mean()"
   ]
  },
  {
   "cell_type": "code",
   "execution_count": 34,
   "id": "332f8202",
   "metadata": {},
   "outputs": [],
   "source": [
    "chris = holweek[(holweek['Date'] == '31-12-2010')|(holweek['Date'] == '30-12-2011')|(holweek['Date'] == '28-12-2012')]"
   ]
  },
  {
   "cell_type": "code",
   "execution_count": 35,
   "id": "d2e8597b",
   "metadata": {},
   "outputs": [],
   "source": [
    "christmassales = chris['Weekly_Sales'].mean()"
   ]
  },
  {
   "cell_type": "code",
   "execution_count": 36,
   "id": "d885308c",
   "metadata": {},
   "outputs": [
    {
     "data": {
      "text/plain": [
       "32163.11014193017"
      ]
     },
     "execution_count": 36,
     "metadata": {},
     "output_type": "execute_result"
    }
   ],
   "source": [
    "#diff in sale between superbowl and avg\n",
    "superbowlsales - means"
   ]
  },
  {
   "cell_type": "code",
   "execution_count": 37,
   "id": "4e6511ac",
   "metadata": {},
   "outputs": [
    {
     "data": {
      "text/plain": [
       "-4537.5836358474335"
      ]
     },
     "execution_count": 37,
     "metadata": {},
     "output_type": "execute_result"
    }
   ],
   "source": [
    "#diff in sale between labourday and avg\n",
    "labourdaysales - means"
   ]
  },
  {
   "cell_type": "code",
   "execution_count": 38,
   "id": "9b3273f2",
   "metadata": {},
   "outputs": [
    {
     "data": {
      "text/plain": [
       "424308.5502160047"
      ]
     },
     "execution_count": 38,
     "metadata": {},
     "output_type": "execute_result"
    }
   ],
   "source": [
    "#diff in sale between thanksgiving and avg\n",
    "thanksgivingsales - means"
   ]
  },
  {
   "cell_type": "code",
   "execution_count": 39,
   "id": "db1c2fe6",
   "metadata": {},
   "outputs": [
    {
     "data": {
      "text/plain": [
       "-86131.76600621804"
      ]
     },
     "execution_count": 39,
     "metadata": {},
     "output_type": "execute_result"
    }
   ],
   "source": [
    "#diff in sale between christmas and avg\n",
    "christmassales - means"
   ]
  },
  {
   "cell_type": "markdown",
   "id": "7f77d1c2",
   "metadata": {},
   "source": [
    "### Provide a monthly and semester view of sales in units and give insights"
   ]
  },
  {
   "cell_type": "code",
   "execution_count": 40,
   "id": "f687209f",
   "metadata": {},
   "outputs": [],
   "source": [
    "#creating a new column for years, months and quarters\n",
    "df['Month'] = pd.to_datetime(df['Date']).dt.month\n",
    "df['Year'] = pd.to_datetime(df['Date']).dt.year\n",
    "df['Quarter'] = pd.to_datetime(df['Date']).dt.quarter"
   ]
  },
  {
   "cell_type": "code",
   "execution_count": 41,
   "id": "16bed093",
   "metadata": {},
   "outputs": [
    {
     "data": {
      "text/html": [
       "<div>\n",
       "<style scoped>\n",
       "    .dataframe tbody tr th:only-of-type {\n",
       "        vertical-align: middle;\n",
       "    }\n",
       "\n",
       "    .dataframe tbody tr th {\n",
       "        vertical-align: top;\n",
       "    }\n",
       "\n",
       "    .dataframe thead th {\n",
       "        text-align: right;\n",
       "    }\n",
       "</style>\n",
       "<table border=\"1\" class=\"dataframe\">\n",
       "  <thead>\n",
       "    <tr style=\"text-align: right;\">\n",
       "      <th></th>\n",
       "      <th>Store</th>\n",
       "      <th>Date</th>\n",
       "      <th>Weekly_Sales</th>\n",
       "      <th>Holiday_Flag</th>\n",
       "      <th>Temperature</th>\n",
       "      <th>Fuel_Price</th>\n",
       "      <th>CPI</th>\n",
       "      <th>Unemployment</th>\n",
       "      <th>DateTime</th>\n",
       "      <th>Month</th>\n",
       "      <th>Year</th>\n",
       "      <th>Quarter</th>\n",
       "    </tr>\n",
       "  </thead>\n",
       "  <tbody>\n",
       "    <tr>\n",
       "      <th>0</th>\n",
       "      <td>1</td>\n",
       "      <td>05-02-2010</td>\n",
       "      <td>1643690.90</td>\n",
       "      <td>0</td>\n",
       "      <td>42.31</td>\n",
       "      <td>2.572</td>\n",
       "      <td>211.096358</td>\n",
       "      <td>8.106</td>\n",
       "      <td>2010-05-02</td>\n",
       "      <td>5</td>\n",
       "      <td>2010</td>\n",
       "      <td>2</td>\n",
       "    </tr>\n",
       "    <tr>\n",
       "      <th>1</th>\n",
       "      <td>1</td>\n",
       "      <td>12-02-2010</td>\n",
       "      <td>1641957.44</td>\n",
       "      <td>1</td>\n",
       "      <td>38.51</td>\n",
       "      <td>2.548</td>\n",
       "      <td>211.242170</td>\n",
       "      <td>8.106</td>\n",
       "      <td>2010-12-02</td>\n",
       "      <td>12</td>\n",
       "      <td>2010</td>\n",
       "      <td>4</td>\n",
       "    </tr>\n",
       "  </tbody>\n",
       "</table>\n",
       "</div>"
      ],
      "text/plain": [
       "   Store        Date  Weekly_Sales  Holiday_Flag  Temperature  Fuel_Price  \\\n",
       "0      1  05-02-2010    1643690.90             0        42.31       2.572   \n",
       "1      1  12-02-2010    1641957.44             1        38.51       2.548   \n",
       "\n",
       "          CPI  Unemployment   DateTime  Month  Year  Quarter  \n",
       "0  211.096358         8.106 2010-05-02      5  2010        2  \n",
       "1  211.242170         8.106 2010-12-02     12  2010        4  "
      ]
     },
     "execution_count": 41,
     "metadata": {},
     "output_type": "execute_result"
    }
   ],
   "source": [
    "df.head(2)"
   ]
  },
  {
   "cell_type": "code",
   "execution_count": 42,
   "id": "db227a1d",
   "metadata": {},
   "outputs": [
    {
     "data": {
      "text/html": [
       "<div>\n",
       "<style scoped>\n",
       "    .dataframe tbody tr th:only-of-type {\n",
       "        vertical-align: middle;\n",
       "    }\n",
       "\n",
       "    .dataframe tbody tr th {\n",
       "        vertical-align: top;\n",
       "    }\n",
       "\n",
       "    .dataframe thead th {\n",
       "        text-align: right;\n",
       "    }\n",
       "</style>\n",
       "<table border=\"1\" class=\"dataframe\">\n",
       "  <thead>\n",
       "    <tr style=\"text-align: right;\">\n",
       "      <th></th>\n",
       "      <th>Store</th>\n",
       "      <th>Date</th>\n",
       "      <th>Weekly_Sales</th>\n",
       "      <th>Holiday_Flag</th>\n",
       "      <th>Temperature</th>\n",
       "      <th>Fuel_Price</th>\n",
       "      <th>CPI</th>\n",
       "      <th>Unemployment</th>\n",
       "      <th>DateTime</th>\n",
       "      <th>Month</th>\n",
       "      <th>Year</th>\n",
       "      <th>Quarter</th>\n",
       "    </tr>\n",
       "  </thead>\n",
       "  <tbody>\n",
       "    <tr>\n",
       "      <th>0</th>\n",
       "      <td>1</td>\n",
       "      <td>05-02-2010</td>\n",
       "      <td>1643690.90</td>\n",
       "      <td>0</td>\n",
       "      <td>42.31</td>\n",
       "      <td>2.572</td>\n",
       "      <td>211.096358</td>\n",
       "      <td>8.106</td>\n",
       "      <td>2010-05-02</td>\n",
       "      <td>5</td>\n",
       "      <td>2010</td>\n",
       "      <td>2</td>\n",
       "    </tr>\n",
       "    <tr>\n",
       "      <th>1</th>\n",
       "      <td>1</td>\n",
       "      <td>12-02-2010</td>\n",
       "      <td>1641957.44</td>\n",
       "      <td>1</td>\n",
       "      <td>38.51</td>\n",
       "      <td>2.548</td>\n",
       "      <td>211.242170</td>\n",
       "      <td>8.106</td>\n",
       "      <td>2010-12-02</td>\n",
       "      <td>12</td>\n",
       "      <td>2010</td>\n",
       "      <td>4</td>\n",
       "    </tr>\n",
       "    <tr>\n",
       "      <th>2</th>\n",
       "      <td>1</td>\n",
       "      <td>19-02-2010</td>\n",
       "      <td>1611968.17</td>\n",
       "      <td>0</td>\n",
       "      <td>39.93</td>\n",
       "      <td>2.514</td>\n",
       "      <td>211.289143</td>\n",
       "      <td>8.106</td>\n",
       "      <td>2010-02-19</td>\n",
       "      <td>2</td>\n",
       "      <td>2010</td>\n",
       "      <td>1</td>\n",
       "    </tr>\n",
       "    <tr>\n",
       "      <th>3</th>\n",
       "      <td>1</td>\n",
       "      <td>26-02-2010</td>\n",
       "      <td>1409727.59</td>\n",
       "      <td>0</td>\n",
       "      <td>46.63</td>\n",
       "      <td>2.561</td>\n",
       "      <td>211.319643</td>\n",
       "      <td>8.106</td>\n",
       "      <td>2010-02-26</td>\n",
       "      <td>2</td>\n",
       "      <td>2010</td>\n",
       "      <td>1</td>\n",
       "    </tr>\n",
       "    <tr>\n",
       "      <th>4</th>\n",
       "      <td>1</td>\n",
       "      <td>05-03-2010</td>\n",
       "      <td>1554806.68</td>\n",
       "      <td>0</td>\n",
       "      <td>46.50</td>\n",
       "      <td>2.625</td>\n",
       "      <td>211.350143</td>\n",
       "      <td>8.106</td>\n",
       "      <td>2010-05-03</td>\n",
       "      <td>5</td>\n",
       "      <td>2010</td>\n",
       "      <td>2</td>\n",
       "    </tr>\n",
       "  </tbody>\n",
       "</table>\n",
       "</div>"
      ],
      "text/plain": [
       "   Store        Date  Weekly_Sales  Holiday_Flag  Temperature  Fuel_Price  \\\n",
       "0      1  05-02-2010    1643690.90             0        42.31       2.572   \n",
       "1      1  12-02-2010    1641957.44             1        38.51       2.548   \n",
       "2      1  19-02-2010    1611968.17             0        39.93       2.514   \n",
       "3      1  26-02-2010    1409727.59             0        46.63       2.561   \n",
       "4      1  05-03-2010    1554806.68             0        46.50       2.625   \n",
       "\n",
       "          CPI  Unemployment   DateTime  Month  Year  Quarter  \n",
       "0  211.096358         8.106 2010-05-02      5  2010        2  \n",
       "1  211.242170         8.106 2010-12-02     12  2010        4  \n",
       "2  211.289143         8.106 2010-02-19      2  2010        1  \n",
       "3  211.319643         8.106 2010-02-26      2  2010        1  \n",
       "4  211.350143         8.106 2010-05-03      5  2010        2  "
      ]
     },
     "execution_count": 42,
     "metadata": {},
     "output_type": "execute_result"
    }
   ],
   "source": [
    "yr2010 = df[df['Year'] == 2010]\n",
    "yr2010.head()"
   ]
  },
  {
   "cell_type": "code",
   "execution_count": 43,
   "id": "5d9a213b",
   "metadata": {},
   "outputs": [
    {
     "data": {
      "text/html": [
       "<div>\n",
       "<style scoped>\n",
       "    .dataframe tbody tr th:only-of-type {\n",
       "        vertical-align: middle;\n",
       "    }\n",
       "\n",
       "    .dataframe tbody tr th {\n",
       "        vertical-align: top;\n",
       "    }\n",
       "\n",
       "    .dataframe thead th {\n",
       "        text-align: right;\n",
       "    }\n",
       "</style>\n",
       "<table border=\"1\" class=\"dataframe\">\n",
       "  <thead>\n",
       "    <tr style=\"text-align: right;\">\n",
       "      <th></th>\n",
       "      <th>Store</th>\n",
       "      <th>Date</th>\n",
       "      <th>Weekly_Sales</th>\n",
       "      <th>Holiday_Flag</th>\n",
       "      <th>Temperature</th>\n",
       "      <th>Fuel_Price</th>\n",
       "      <th>CPI</th>\n",
       "      <th>Unemployment</th>\n",
       "      <th>DateTime</th>\n",
       "      <th>Month</th>\n",
       "      <th>Year</th>\n",
       "      <th>Quarter</th>\n",
       "    </tr>\n",
       "  </thead>\n",
       "  <tbody>\n",
       "    <tr>\n",
       "      <th>48</th>\n",
       "      <td>1</td>\n",
       "      <td>07-01-2011</td>\n",
       "      <td>1444732.28</td>\n",
       "      <td>0</td>\n",
       "      <td>48.27</td>\n",
       "      <td>2.976</td>\n",
       "      <td>211.404742</td>\n",
       "      <td>7.742</td>\n",
       "      <td>2011-07-01</td>\n",
       "      <td>7</td>\n",
       "      <td>2011</td>\n",
       "      <td>3</td>\n",
       "    </tr>\n",
       "    <tr>\n",
       "      <th>49</th>\n",
       "      <td>1</td>\n",
       "      <td>14-01-2011</td>\n",
       "      <td>1391013.96</td>\n",
       "      <td>0</td>\n",
       "      <td>35.40</td>\n",
       "      <td>2.983</td>\n",
       "      <td>211.457411</td>\n",
       "      <td>7.742</td>\n",
       "      <td>2011-01-14</td>\n",
       "      <td>1</td>\n",
       "      <td>2011</td>\n",
       "      <td>1</td>\n",
       "    </tr>\n",
       "    <tr>\n",
       "      <th>50</th>\n",
       "      <td>1</td>\n",
       "      <td>21-01-2011</td>\n",
       "      <td>1327405.42</td>\n",
       "      <td>0</td>\n",
       "      <td>44.04</td>\n",
       "      <td>3.016</td>\n",
       "      <td>211.827234</td>\n",
       "      <td>7.742</td>\n",
       "      <td>2011-01-21</td>\n",
       "      <td>1</td>\n",
       "      <td>2011</td>\n",
       "      <td>1</td>\n",
       "    </tr>\n",
       "    <tr>\n",
       "      <th>51</th>\n",
       "      <td>1</td>\n",
       "      <td>28-01-2011</td>\n",
       "      <td>1316899.31</td>\n",
       "      <td>0</td>\n",
       "      <td>43.83</td>\n",
       "      <td>3.010</td>\n",
       "      <td>212.197058</td>\n",
       "      <td>7.742</td>\n",
       "      <td>2011-01-28</td>\n",
       "      <td>1</td>\n",
       "      <td>2011</td>\n",
       "      <td>1</td>\n",
       "    </tr>\n",
       "    <tr>\n",
       "      <th>52</th>\n",
       "      <td>1</td>\n",
       "      <td>04-02-2011</td>\n",
       "      <td>1606629.58</td>\n",
       "      <td>0</td>\n",
       "      <td>42.27</td>\n",
       "      <td>2.989</td>\n",
       "      <td>212.566881</td>\n",
       "      <td>7.742</td>\n",
       "      <td>2011-04-02</td>\n",
       "      <td>4</td>\n",
       "      <td>2011</td>\n",
       "      <td>2</td>\n",
       "    </tr>\n",
       "  </tbody>\n",
       "</table>\n",
       "</div>"
      ],
      "text/plain": [
       "    Store        Date  Weekly_Sales  Holiday_Flag  Temperature  Fuel_Price  \\\n",
       "48      1  07-01-2011    1444732.28             0        48.27       2.976   \n",
       "49      1  14-01-2011    1391013.96             0        35.40       2.983   \n",
       "50      1  21-01-2011    1327405.42             0        44.04       3.016   \n",
       "51      1  28-01-2011    1316899.31             0        43.83       3.010   \n",
       "52      1  04-02-2011    1606629.58             0        42.27       2.989   \n",
       "\n",
       "           CPI  Unemployment   DateTime  Month  Year  Quarter  \n",
       "48  211.404742         7.742 2011-07-01      7  2011        3  \n",
       "49  211.457411         7.742 2011-01-14      1  2011        1  \n",
       "50  211.827234         7.742 2011-01-21      1  2011        1  \n",
       "51  212.197058         7.742 2011-01-28      1  2011        1  \n",
       "52  212.566881         7.742 2011-04-02      4  2011        2  "
      ]
     },
     "execution_count": 43,
     "metadata": {},
     "output_type": "execute_result"
    }
   ],
   "source": [
    "yr2011 = df[df['Year'] == 2011]\n",
    "yr2011.head()"
   ]
  },
  {
   "cell_type": "code",
   "execution_count": 44,
   "id": "4ced5426",
   "metadata": {},
   "outputs": [
    {
     "data": {
      "text/html": [
       "<div>\n",
       "<style scoped>\n",
       "    .dataframe tbody tr th:only-of-type {\n",
       "        vertical-align: middle;\n",
       "    }\n",
       "\n",
       "    .dataframe tbody tr th {\n",
       "        vertical-align: top;\n",
       "    }\n",
       "\n",
       "    .dataframe thead th {\n",
       "        text-align: right;\n",
       "    }\n",
       "</style>\n",
       "<table border=\"1\" class=\"dataframe\">\n",
       "  <thead>\n",
       "    <tr style=\"text-align: right;\">\n",
       "      <th></th>\n",
       "      <th>Store</th>\n",
       "      <th>Date</th>\n",
       "      <th>Weekly_Sales</th>\n",
       "      <th>Holiday_Flag</th>\n",
       "      <th>Temperature</th>\n",
       "      <th>Fuel_Price</th>\n",
       "      <th>CPI</th>\n",
       "      <th>Unemployment</th>\n",
       "      <th>DateTime</th>\n",
       "      <th>Month</th>\n",
       "      <th>Year</th>\n",
       "      <th>Quarter</th>\n",
       "    </tr>\n",
       "  </thead>\n",
       "  <tbody>\n",
       "    <tr>\n",
       "      <th>100</th>\n",
       "      <td>1</td>\n",
       "      <td>06-01-2012</td>\n",
       "      <td>1550369.92</td>\n",
       "      <td>0</td>\n",
       "      <td>49.01</td>\n",
       "      <td>3.157</td>\n",
       "      <td>219.714258</td>\n",
       "      <td>7.348</td>\n",
       "      <td>2012-06-01</td>\n",
       "      <td>6</td>\n",
       "      <td>2012</td>\n",
       "      <td>2</td>\n",
       "    </tr>\n",
       "    <tr>\n",
       "      <th>101</th>\n",
       "      <td>1</td>\n",
       "      <td>13-01-2012</td>\n",
       "      <td>1459601.17</td>\n",
       "      <td>0</td>\n",
       "      <td>48.53</td>\n",
       "      <td>3.261</td>\n",
       "      <td>219.892526</td>\n",
       "      <td>7.348</td>\n",
       "      <td>2012-01-13</td>\n",
       "      <td>1</td>\n",
       "      <td>2012</td>\n",
       "      <td>1</td>\n",
       "    </tr>\n",
       "    <tr>\n",
       "      <th>102</th>\n",
       "      <td>1</td>\n",
       "      <td>20-01-2012</td>\n",
       "      <td>1394393.84</td>\n",
       "      <td>0</td>\n",
       "      <td>54.11</td>\n",
       "      <td>3.268</td>\n",
       "      <td>219.985689</td>\n",
       "      <td>7.348</td>\n",
       "      <td>2012-01-20</td>\n",
       "      <td>1</td>\n",
       "      <td>2012</td>\n",
       "      <td>1</td>\n",
       "    </tr>\n",
       "    <tr>\n",
       "      <th>103</th>\n",
       "      <td>1</td>\n",
       "      <td>27-01-2012</td>\n",
       "      <td>1319325.59</td>\n",
       "      <td>0</td>\n",
       "      <td>54.26</td>\n",
       "      <td>3.290</td>\n",
       "      <td>220.078852</td>\n",
       "      <td>7.348</td>\n",
       "      <td>2012-01-27</td>\n",
       "      <td>1</td>\n",
       "      <td>2012</td>\n",
       "      <td>1</td>\n",
       "    </tr>\n",
       "    <tr>\n",
       "      <th>104</th>\n",
       "      <td>1</td>\n",
       "      <td>03-02-2012</td>\n",
       "      <td>1636339.65</td>\n",
       "      <td>0</td>\n",
       "      <td>56.55</td>\n",
       "      <td>3.360</td>\n",
       "      <td>220.172015</td>\n",
       "      <td>7.348</td>\n",
       "      <td>2012-03-02</td>\n",
       "      <td>3</td>\n",
       "      <td>2012</td>\n",
       "      <td>1</td>\n",
       "    </tr>\n",
       "  </tbody>\n",
       "</table>\n",
       "</div>"
      ],
      "text/plain": [
       "     Store        Date  Weekly_Sales  Holiday_Flag  Temperature  Fuel_Price  \\\n",
       "100      1  06-01-2012    1550369.92             0        49.01       3.157   \n",
       "101      1  13-01-2012    1459601.17             0        48.53       3.261   \n",
       "102      1  20-01-2012    1394393.84             0        54.11       3.268   \n",
       "103      1  27-01-2012    1319325.59             0        54.26       3.290   \n",
       "104      1  03-02-2012    1636339.65             0        56.55       3.360   \n",
       "\n",
       "            CPI  Unemployment   DateTime  Month  Year  Quarter  \n",
       "100  219.714258         7.348 2012-06-01      6  2012        2  \n",
       "101  219.892526         7.348 2012-01-13      1  2012        1  \n",
       "102  219.985689         7.348 2012-01-20      1  2012        1  \n",
       "103  220.078852         7.348 2012-01-27      1  2012        1  \n",
       "104  220.172015         7.348 2012-03-02      3  2012        1  "
      ]
     },
     "execution_count": 44,
     "metadata": {},
     "output_type": "execute_result"
    }
   ],
   "source": [
    "yr2012 = df[df['Year'] == 2012]\n",
    "yr2012.head()"
   ]
  },
  {
   "cell_type": "code",
   "execution_count": 45,
   "id": "6ee3393b",
   "metadata": {},
   "outputs": [
    {
     "data": {
      "text/plain": [
       "Text(0.5, 1.0, 'Monthly Sale of 2010')"
      ]
     },
     "execution_count": 45,
     "metadata": {},
     "output_type": "execute_result"
    },
    {
     "data": {
      "image/png": "[encoded data removed]",
      "text/plain": [
       "<Figure size 1080x720 with 1 Axes>"
      ]
     },
     "metadata": {
      "needs_background": "light"
     },
     "output_type": "display_data"
    }
   ],
   "source": [
    "plt.figure(figsize = (15,10))\n",
    "sns.barplot(x = yr2010['Month'],y = yr2010['Weekly_Sales'])\n",
    "plt.title('Monthly Sale of 2010')"
   ]
  },
  {
   "cell_type": "code",
   "execution_count": 46,
   "id": "8b0b7064",
   "metadata": {},
   "outputs": [
    {
     "data": {
      "text/plain": [
       "Text(0.5, 1.0, 'Monthly Sale of 2011')"
      ]
     },
     "execution_count": 46,
     "metadata": {},
     "output_type": "execute_result"
    },
    {
     "data": {
      "image/png": "[encoded data removed]",
      "text/plain": [
       "<Figure size 1080x720 with 1 Axes>"
      ]
     },
     "metadata": {
      "needs_background": "light"
     },
     "output_type": "display_data"
    }
   ],
   "source": [
    "plt.figure(figsize = (15,10))\n",
    "sns.barplot(x = yr2011['Month'],y = yr2011['Weekly_Sales'])\n",
    "plt.title('Monthly Sale of 2011')"
   ]
  },
  {
   "cell_type": "code",
   "execution_count": 47,
   "id": "9a2a167b",
   "metadata": {},
   "outputs": [
    {
     "data": {
      "text/plain": [
       "Text(0.5, 1.0, 'Monthly Sale of 2012')"
      ]
     },
     "execution_count": 47,
     "metadata": {},
     "output_type": "execute_result"
    },
    {
     "data": {
      "image/png": "[encoded data removed]",
      "text/plain": [
       "<Figure size 1080x720 with 1 Axes>"
      ]
     },
     "metadata": {
      "needs_background": "light"
     },
     "output_type": "display_data"
    }
   ],
   "source": [
    "plt.figure(figsize = (15,10))\n",
    "sns.barplot(x = yr2012['Month'],y = yr2012['Weekly_Sales'])\n",
    "plt.title('Monthly Sale of 2012')"
   ]
  },
  {
   "cell_type": "code",
   "execution_count": 48,
   "id": "09183eac",
   "metadata": {},
   "outputs": [
    {
     "data": {
      "text/plain": [
       "Text(0, 0.5, 'Monthly Sales')"
      ]
     },
     "execution_count": 48,
     "metadata": {},
     "output_type": "execute_result"
    },
    {
     "data": {
      "image/png": "[encoded data removed]",
      "text/plain": [
       "<Figure size 720x360 with 1 Axes>"
      ]
     },
     "metadata": {
      "needs_background": "light"
     },
     "output_type": "display_data"
    }
   ],
   "source": [
    "Monthly = df.groupby(pd.Grouper(key='DateTime', freq='1M')).sum()\n",
    "Monthly = Monthly.reset_index()\n",
    "fig, ax = plt.subplots(figsize=(10,5))\n",
    "X = Monthly['DateTime']\n",
    "Y = Monthly['Weekly_Sales']\n",
    "plt.plot(X,Y)\n",
    "plt.title('Month Wise Sales from 2010 to 2013')\n",
    "plt.xlabel('Month')\n",
    "plt.ylabel('Monthly Sales')"
   ]
  },
  {
   "cell_type": "markdown",
   "id": "3dcc0526",
   "metadata": {},
   "source": [
    "### Now giving semester wise sale"
   ]
  },
  {
   "cell_type": "code",
   "execution_count": 49,
   "id": "4485dc05",
   "metadata": {},
   "outputs": [
    {
     "data": {
      "text/plain": [
       "Text(0, 0.5, 'Weekly_Sales')"
      ]
     },
     "execution_count": 49,
     "metadata": {},
     "output_type": "execute_result"
    },
    {
     "data": {
      "image/png": "[encoded data removed]",
      "text/plain": [
       "<Figure size 720x360 with 1 Axes>"
      ]
     },
     "metadata": {
      "needs_background": "light"
     },
     "output_type": "display_data"
    }
   ],
   "source": [
    "Semester = df.groupby(pd.Grouper(key='DateTime', freq='6M')).sum()\n",
    "Semester = Semester.reset_index()\n",
    "fig, ax = plt.subplots(figsize=(10,5))\n",
    "X = Semester['DateTime']\n",
    "Y = Semester['Weekly_Sales']\n",
    "plt.plot(X,Y)\n",
    "plt.title('Semester Wise Sales from 2010 to 2013')\n",
    "plt.xlabel('Semester')\n",
    "plt.ylabel('Weekly_Sales')"
   ]
  },
  {
   "cell_type": "markdown",
   "id": "30aac827",
   "metadata": {},
   "source": [
    "## For Store 1 – Build  prediction models to forecast demand\n",
    "\n",
    "### Utilize variables like date and restructure dates as 1 for 5 Feb 2010 (starting from the earliest date in order). "
   ]
  },
  {
   "cell_type": "code",
   "execution_count": 50,
   "id": "8b8e59a4",
   "metadata": {},
   "outputs": [],
   "source": [
    "store1 = df[df['Store'] == 1]"
   ]
  },
  {
   "cell_type": "code",
   "execution_count": 51,
   "id": "d96249d8",
   "metadata": {},
   "outputs": [
    {
     "name": "stderr",
     "output_type": "stream",
     "text": [
      "/var/folders/gw/08ys_qm54ks74dkzmn84tw880000gn/T/ipykernel_83339/3540585762.py:1: SettingWithCopyWarning: \n",
      "A value is trying to be set on a copy of a slice from a DataFrame.\n",
      "Try using .loc[row_indexer,col_indexer] = value instead\n",
      "\n",
      "See the caveats in the documentation: https://pandas.pydata.org/pandas-docs/stable/user_guide/indexing.html#returning-a-view-versus-a-copy\n",
      "  store1['Day'] = (store1.index) * 7\n"
     ]
    }
   ],
   "source": [
    "store1['Day'] = (store1.index) * 7"
   ]
  },
  {
   "cell_type": "code",
   "execution_count": 52,
   "id": "56005443",
   "metadata": {},
   "outputs": [
    {
     "name": "stderr",
     "output_type": "stream",
     "text": [
      "/var/folders/gw/08ys_qm54ks74dkzmn84tw880000gn/T/ipykernel_83339/2888528272.py:1: SettingWithCopyWarning: \n",
      "A value is trying to be set on a copy of a slice from a DataFrame\n",
      "\n",
      "See the caveats in the documentation: https://pandas.pydata.org/pandas-docs/stable/user_guide/indexing.html#returning-a-view-versus-a-copy\n",
      "  store1['Day'][0] = 1\n"
     ]
    },
    {
     "data": {
      "text/html": [
       "<div>\n",
       "<style scoped>\n",
       "    .dataframe tbody tr th:only-of-type {\n",
       "        vertical-align: middle;\n",
       "    }\n",
       "\n",
       "    .dataframe tbody tr th {\n",
       "        vertical-align: top;\n",
       "    }\n",
       "\n",
       "    .dataframe thead th {\n",
       "        text-align: right;\n",
       "    }\n",
       "</style>\n",
       "<table border=\"1\" class=\"dataframe\">\n",
       "  <thead>\n",
       "    <tr style=\"text-align: right;\">\n",
       "      <th></th>\n",
       "      <th>Store</th>\n",
       "      <th>Date</th>\n",
       "      <th>Weekly_Sales</th>\n",
       "      <th>Holiday_Flag</th>\n",
       "      <th>Temperature</th>\n",
       "      <th>Fuel_Price</th>\n",
       "      <th>CPI</th>\n",
       "      <th>Unemployment</th>\n",
       "      <th>DateTime</th>\n",
       "      <th>Month</th>\n",
       "      <th>Year</th>\n",
       "      <th>Quarter</th>\n",
       "      <th>Day</th>\n",
       "    </tr>\n",
       "  </thead>\n",
       "  <tbody>\n",
       "    <tr>\n",
       "      <th>0</th>\n",
       "      <td>1</td>\n",
       "      <td>05-02-2010</td>\n",
       "      <td>1643690.90</td>\n",
       "      <td>0</td>\n",
       "      <td>42.31</td>\n",
       "      <td>2.572</td>\n",
       "      <td>211.096358</td>\n",
       "      <td>8.106</td>\n",
       "      <td>2010-05-02</td>\n",
       "      <td>5</td>\n",
       "      <td>2010</td>\n",
       "      <td>2</td>\n",
       "      <td>1</td>\n",
       "    </tr>\n",
       "    <tr>\n",
       "      <th>1</th>\n",
       "      <td>1</td>\n",
       "      <td>12-02-2010</td>\n",
       "      <td>1641957.44</td>\n",
       "      <td>1</td>\n",
       "      <td>38.51</td>\n",
       "      <td>2.548</td>\n",
       "      <td>211.242170</td>\n",
       "      <td>8.106</td>\n",
       "      <td>2010-12-02</td>\n",
       "      <td>12</td>\n",
       "      <td>2010</td>\n",
       "      <td>4</td>\n",
       "      <td>7</td>\n",
       "    </tr>\n",
       "    <tr>\n",
       "      <th>2</th>\n",
       "      <td>1</td>\n",
       "      <td>19-02-2010</td>\n",
       "      <td>1611968.17</td>\n",
       "      <td>0</td>\n",
       "      <td>39.93</td>\n",
       "      <td>2.514</td>\n",
       "      <td>211.289143</td>\n",
       "      <td>8.106</td>\n",
       "      <td>2010-02-19</td>\n",
       "      <td>2</td>\n",
       "      <td>2010</td>\n",
       "      <td>1</td>\n",
       "      <td>14</td>\n",
       "    </tr>\n",
       "    <tr>\n",
       "      <th>3</th>\n",
       "      <td>1</td>\n",
       "      <td>26-02-2010</td>\n",
       "      <td>1409727.59</td>\n",
       "      <td>0</td>\n",
       "      <td>46.63</td>\n",
       "      <td>2.561</td>\n",
       "      <td>211.319643</td>\n",
       "      <td>8.106</td>\n",
       "      <td>2010-02-26</td>\n",
       "      <td>2</td>\n",
       "      <td>2010</td>\n",
       "      <td>1</td>\n",
       "      <td>21</td>\n",
       "    </tr>\n",
       "    <tr>\n",
       "      <th>4</th>\n",
       "      <td>1</td>\n",
       "      <td>05-03-2010</td>\n",
       "      <td>1554806.68</td>\n",
       "      <td>0</td>\n",
       "      <td>46.50</td>\n",
       "      <td>2.625</td>\n",
       "      <td>211.350143</td>\n",
       "      <td>8.106</td>\n",
       "      <td>2010-05-03</td>\n",
       "      <td>5</td>\n",
       "      <td>2010</td>\n",
       "      <td>2</td>\n",
       "      <td>28</td>\n",
       "    </tr>\n",
       "  </tbody>\n",
       "</table>\n",
       "</div>"
      ],
      "text/plain": [
       "   Store        Date  Weekly_Sales  Holiday_Flag  Temperature  Fuel_Price  \\\n",
       "0      1  05-02-2010    1643690.90             0        42.31       2.572   \n",
       "1      1  12-02-2010    1641957.44             1        38.51       2.548   \n",
       "2      1  19-02-2010    1611968.17             0        39.93       2.514   \n",
       "3      1  26-02-2010    1409727.59             0        46.63       2.561   \n",
       "4      1  05-03-2010    1554806.68             0        46.50       2.625   \n",
       "\n",
       "          CPI  Unemployment   DateTime  Month  Year  Quarter  Day  \n",
       "0  211.096358         8.106 2010-05-02      5  2010        2    1  \n",
       "1  211.242170         8.106 2010-12-02     12  2010        4    7  \n",
       "2  211.289143         8.106 2010-02-19      2  2010        1   14  \n",
       "3  211.319643         8.106 2010-02-26      2  2010        1   21  \n",
       "4  211.350143         8.106 2010-05-03      5  2010        2   28  "
      ]
     },
     "execution_count": 52,
     "metadata": {},
     "output_type": "execute_result"
    }
   ],
   "source": [
    "store1['Day'][0] = 1\n",
    "store1.head()"
   ]
  },
  {
   "cell_type": "markdown",
   "id": "4cf260f0",
   "metadata": {},
   "source": [
    "### Linear Regression - Hypothesize if CPI, unemployment, and fuel price have any impact on sales."
   ]
  },
  {
   "cell_type": "code",
   "execution_count": 53,
   "id": "d4fc29c4",
   "metadata": {},
   "outputs": [],
   "source": [
    "store1lr = store1"
   ]
  },
  {
   "cell_type": "code",
   "execution_count": 54,
   "id": "3b4c82ec",
   "metadata": {},
   "outputs": [
    {
     "name": "stderr",
     "output_type": "stream",
     "text": [
      "/Users/priyanshkhandelwal/opt/anaconda3/lib/python3.9/site-packages/pandas/core/frame.py:4906: SettingWithCopyWarning: \n",
      "A value is trying to be set on a copy of a slice from a DataFrame\n",
      "\n",
      "See the caveats in the documentation: https://pandas.pydata.org/pandas-docs/stable/user_guide/indexing.html#returning-a-view-versus-a-copy\n",
      "  return super().drop(\n"
     ]
    }
   ],
   "source": [
    "store1lr.drop(columns = ['Store','Date','DateTime','Month','Year','Quarter','Day'],inplace = True)"
   ]
  },
  {
   "cell_type": "code",
   "execution_count": 55,
   "id": "54ce2fd6",
   "metadata": {},
   "outputs": [
    {
     "data": {
      "text/html": [
       "<div>\n",
       "<style scoped>\n",
       "    .dataframe tbody tr th:only-of-type {\n",
       "        vertical-align: middle;\n",
       "    }\n",
       "\n",
       "    .dataframe tbody tr th {\n",
       "        vertical-align: top;\n",
       "    }\n",
       "\n",
       "    .dataframe thead th {\n",
       "        text-align: right;\n",
       "    }\n",
       "</style>\n",
       "<table border=\"1\" class=\"dataframe\">\n",
       "  <thead>\n",
       "    <tr style=\"text-align: right;\">\n",
       "      <th></th>\n",
       "      <th>Weekly_Sales</th>\n",
       "      <th>Holiday_Flag</th>\n",
       "      <th>Temperature</th>\n",
       "      <th>Fuel_Price</th>\n",
       "      <th>CPI</th>\n",
       "      <th>Unemployment</th>\n",
       "    </tr>\n",
       "  </thead>\n",
       "  <tbody>\n",
       "    <tr>\n",
       "      <th>0</th>\n",
       "      <td>1643690.90</td>\n",
       "      <td>0</td>\n",
       "      <td>42.31</td>\n",
       "      <td>2.572</td>\n",
       "      <td>211.096358</td>\n",
       "      <td>8.106</td>\n",
       "    </tr>\n",
       "    <tr>\n",
       "      <th>1</th>\n",
       "      <td>1641957.44</td>\n",
       "      <td>1</td>\n",
       "      <td>38.51</td>\n",
       "      <td>2.548</td>\n",
       "      <td>211.242170</td>\n",
       "      <td>8.106</td>\n",
       "    </tr>\n",
       "    <tr>\n",
       "      <th>2</th>\n",
       "      <td>1611968.17</td>\n",
       "      <td>0</td>\n",
       "      <td>39.93</td>\n",
       "      <td>2.514</td>\n",
       "      <td>211.289143</td>\n",
       "      <td>8.106</td>\n",
       "    </tr>\n",
       "    <tr>\n",
       "      <th>3</th>\n",
       "      <td>1409727.59</td>\n",
       "      <td>0</td>\n",
       "      <td>46.63</td>\n",
       "      <td>2.561</td>\n",
       "      <td>211.319643</td>\n",
       "      <td>8.106</td>\n",
       "    </tr>\n",
       "    <tr>\n",
       "      <th>4</th>\n",
       "      <td>1554806.68</td>\n",
       "      <td>0</td>\n",
       "      <td>46.50</td>\n",
       "      <td>2.625</td>\n",
       "      <td>211.350143</td>\n",
       "      <td>8.106</td>\n",
       "    </tr>\n",
       "  </tbody>\n",
       "</table>\n",
       "</div>"
      ],
      "text/plain": [
       "   Weekly_Sales  Holiday_Flag  Temperature  Fuel_Price         CPI  \\\n",
       "0    1643690.90             0        42.31       2.572  211.096358   \n",
       "1    1641957.44             1        38.51       2.548  211.242170   \n",
       "2    1611968.17             0        39.93       2.514  211.289143   \n",
       "3    1409727.59             0        46.63       2.561  211.319643   \n",
       "4    1554806.68             0        46.50       2.625  211.350143   \n",
       "\n",
       "   Unemployment  \n",
       "0         8.106  \n",
       "1         8.106  \n",
       "2         8.106  \n",
       "3         8.106  \n",
       "4         8.106  "
      ]
     },
     "execution_count": 55,
     "metadata": {},
     "output_type": "execute_result"
    }
   ],
   "source": [
    "store1lr.head()"
   ]
  },
  {
   "cell_type": "code",
   "execution_count": 56,
   "id": "3189ebe6",
   "metadata": {},
   "outputs": [
    {
     "data": {
      "text/html": [
       "<style type=\"text/css\">\n",
       "#T_34610_row0_col0, #T_34610_row1_col1, #T_34610_row2_col2, #T_34610_row3_col3, #T_34610_row4_col4, #T_34610_row5_col5 {\n",
       "  background-color: #b40426;\n",
       "  color: #f1f1f1;\n",
       "}\n",
       "#T_34610_row0_col1 {\n",
       "  background-color: #a9c6fd;\n",
       "  color: #000000;\n",
       "}\n",
       "#T_34610_row0_col2, #T_34610_row2_col0, #T_34610_row2_col1, #T_34610_row4_col5, #T_34610_row5_col3, #T_34610_row5_col4 {\n",
       "  background-color: #3b4cc0;\n",
       "  color: #f1f1f1;\n",
       "}\n",
       "#T_34610_row0_col3 {\n",
       "  background-color: #c6d6f1;\n",
       "  color: #000000;\n",
       "}\n",
       "#T_34610_row0_col4 {\n",
       "  background-color: #edd1c2;\n",
       "  color: #000000;\n",
       "}\n",
       "#T_34610_row0_col5 {\n",
       "  background-color: #bfd3f6;\n",
       "  color: #000000;\n",
       "}\n",
       "#T_34610_row1_col0 {\n",
       "  background-color: #adc9fd;\n",
       "  color: #000000;\n",
       "}\n",
       "#T_34610_row1_col2 {\n",
       "  background-color: #3f53c6;\n",
       "  color: #f1f1f1;\n",
       "}\n",
       "#T_34610_row1_col3, #T_34610_row3_col0 {\n",
       "  background-color: #98b9ff;\n",
       "  color: #000000;\n",
       "}\n",
       "#T_34610_row1_col4 {\n",
       "  background-color: #cad8ef;\n",
       "  color: #000000;\n",
       "}\n",
       "#T_34610_row1_col5 {\n",
       "  background-color: #dbdcde;\n",
       "  color: #000000;\n",
       "}\n",
       "#T_34610_row2_col3 {\n",
       "  background-color: #dadce0;\n",
       "  color: #000000;\n",
       "}\n",
       "#T_34610_row2_col4 {\n",
       "  background-color: #e0dbd8;\n",
       "  color: #000000;\n",
       "}\n",
       "#T_34610_row2_col5 {\n",
       "  background-color: #afcafc;\n",
       "  color: #000000;\n",
       "}\n",
       "#T_34610_row3_col1 {\n",
       "  background-color: #5875e1;\n",
       "  color: #f1f1f1;\n",
       "}\n",
       "#T_34610_row3_col2 {\n",
       "  background-color: #b6cefa;\n",
       "  color: #000000;\n",
       "}\n",
       "#T_34610_row3_col4 {\n",
       "  background-color: #e0654f;\n",
       "  color: #f1f1f1;\n",
       "}\n",
       "#T_34610_row3_col5 {\n",
       "  background-color: #6f92f3;\n",
       "  color: #f1f1f1;\n",
       "}\n",
       "#T_34610_row4_col0 {\n",
       "  background-color: #b5cdfa;\n",
       "  color: #000000;\n",
       "}\n",
       "#T_34610_row4_col1 {\n",
       "  background-color: #6788ee;\n",
       "  color: #f1f1f1;\n",
       "}\n",
       "#T_34610_row4_col2 {\n",
       "  background-color: #97b8ff;\n",
       "  color: #000000;\n",
       "}\n",
       "#T_34610_row4_col3 {\n",
       "  background-color: #e67259;\n",
       "  color: #f1f1f1;\n",
       "}\n",
       "#T_34610_row5_col0 {\n",
       "  background-color: #5a78e4;\n",
       "  color: #f1f1f1;\n",
       "}\n",
       "#T_34610_row5_col1 {\n",
       "  background-color: #88abfd;\n",
       "  color: #000000;\n",
       "}\n",
       "#T_34610_row5_col2 {\n",
       "  background-color: #445acc;\n",
       "  color: #f1f1f1;\n",
       "}\n",
       "</style>\n",
       "<table id=\"T_34610_\">\n",
       "  <thead>\n",
       "    <tr>\n",
       "      <th class=\"blank level0\" >&nbsp;</th>\n",
       "      <th class=\"col_heading level0 col0\" >Weekly_Sales</th>\n",
       "      <th class=\"col_heading level0 col1\" >Holiday_Flag</th>\n",
       "      <th class=\"col_heading level0 col2\" >Temperature</th>\n",
       "      <th class=\"col_heading level0 col3\" >Fuel_Price</th>\n",
       "      <th class=\"col_heading level0 col4\" >CPI</th>\n",
       "      <th class=\"col_heading level0 col5\" >Unemployment</th>\n",
       "    </tr>\n",
       "  </thead>\n",
       "  <tbody>\n",
       "    <tr>\n",
       "      <th id=\"T_34610_level0_row0\" class=\"row_heading level0 row0\" >Weekly_Sales</th>\n",
       "      <td id=\"T_34610_row0_col0\" class=\"data row0 col0\" >1.000000</td>\n",
       "      <td id=\"T_34610_row0_col1\" class=\"data row0 col1\" >0.194905</td>\n",
       "      <td id=\"T_34610_row0_col2\" class=\"data row0 col2\" >-0.222701</td>\n",
       "      <td id=\"T_34610_row0_col3\" class=\"data row0 col3\" >0.124592</td>\n",
       "      <td id=\"T_34610_row0_col4\" class=\"data row0 col4\" >0.225408</td>\n",
       "      <td id=\"T_34610_row0_col5\" class=\"data row0 col5\" >-0.097955</td>\n",
       "    </tr>\n",
       "    <tr>\n",
       "      <th id=\"T_34610_level0_row1\" class=\"row_heading level0 row1\" >Holiday_Flag</th>\n",
       "      <td id=\"T_34610_row1_col0\" class=\"data row1 col0\" >0.194905</td>\n",
       "      <td id=\"T_34610_row1_col1\" class=\"data row1 col1\" >1.000000</td>\n",
       "      <td id=\"T_34610_row1_col2\" class=\"data row1 col2\" >-0.200543</td>\n",
       "      <td id=\"T_34610_row1_col3\" class=\"data row1 col3\" >-0.085903</td>\n",
       "      <td id=\"T_34610_row1_col4\" class=\"data row1 col4\" >-0.028919</td>\n",
       "      <td id=\"T_34610_row1_col5\" class=\"data row1 col5\" >0.082949</td>\n",
       "    </tr>\n",
       "    <tr>\n",
       "      <th id=\"T_34610_level0_row2\" class=\"row_heading level0 row2\" >Temperature</th>\n",
       "      <td id=\"T_34610_row2_col0\" class=\"data row2 col0\" >-0.222701</td>\n",
       "      <td id=\"T_34610_row2_col1\" class=\"data row2 col1\" >-0.200543</td>\n",
       "      <td id=\"T_34610_row2_col2\" class=\"data row2 col2\" >1.000000</td>\n",
       "      <td id=\"T_34610_row2_col3\" class=\"data row2 col3\" >0.228493</td>\n",
       "      <td id=\"T_34610_row2_col4\" class=\"data row2 col4\" >0.118503</td>\n",
       "      <td id=\"T_34610_row2_col5\" class=\"data row2 col5\" >-0.180695</td>\n",
       "    </tr>\n",
       "    <tr>\n",
       "      <th id=\"T_34610_level0_row3\" class=\"row_heading level0 row3\" >Fuel_Price</th>\n",
       "      <td id=\"T_34610_row3_col0\" class=\"data row3 col0\" >0.124592</td>\n",
       "      <td id=\"T_34610_row3_col1\" class=\"data row3 col1\" >-0.085903</td>\n",
       "      <td id=\"T_34610_row3_col2\" class=\"data row3 col2\" >0.228493</td>\n",
       "      <td id=\"T_34610_row3_col3\" class=\"data row3 col3\" >1.000000</td>\n",
       "      <td id=\"T_34610_row3_col4\" class=\"data row3 col4\" >0.755259</td>\n",
       "      <td id=\"T_34610_row3_col5\" class=\"data row3 col5\" >-0.513944</td>\n",
       "    </tr>\n",
       "    <tr>\n",
       "      <th id=\"T_34610_level0_row4\" class=\"row_heading level0 row4\" >CPI</th>\n",
       "      <td id=\"T_34610_row4_col0\" class=\"data row4 col0\" >0.225408</td>\n",
       "      <td id=\"T_34610_row4_col1\" class=\"data row4 col1\" >-0.028919</td>\n",
       "      <td id=\"T_34610_row4_col2\" class=\"data row4 col2\" >0.118503</td>\n",
       "      <td id=\"T_34610_row4_col3\" class=\"data row4 col3\" >0.755259</td>\n",
       "      <td id=\"T_34610_row4_col4\" class=\"data row4 col4\" >1.000000</td>\n",
       "      <td id=\"T_34610_row4_col5\" class=\"data row4 col5\" >-0.813471</td>\n",
       "    </tr>\n",
       "    <tr>\n",
       "      <th id=\"T_34610_level0_row5\" class=\"row_heading level0 row5\" >Unemployment</th>\n",
       "      <td id=\"T_34610_row5_col0\" class=\"data row5 col0\" >-0.097955</td>\n",
       "      <td id=\"T_34610_row5_col1\" class=\"data row5 col1\" >0.082949</td>\n",
       "      <td id=\"T_34610_row5_col2\" class=\"data row5 col2\" >-0.180695</td>\n",
       "      <td id=\"T_34610_row5_col3\" class=\"data row5 col3\" >-0.513944</td>\n",
       "      <td id=\"T_34610_row5_col4\" class=\"data row5 col4\" >-0.813471</td>\n",
       "      <td id=\"T_34610_row5_col5\" class=\"data row5 col5\" >1.000000</td>\n",
       "    </tr>\n",
       "  </tbody>\n",
       "</table>\n"
      ],
      "text/plain": [
       "<pandas.io.formats.style.Styler at 0x7fded0d9eaf0>"
      ]
     },
     "execution_count": 56,
     "metadata": {},
     "output_type": "execute_result"
    }
   ],
   "source": [
    "store1lr.corr().style.background_gradient(cmap = 'coolwarm')"
   ]
  },
  {
   "cell_type": "code",
   "execution_count": 57,
   "id": "54c2f61b",
   "metadata": {},
   "outputs": [],
   "source": [
    "# as we can see, the correlation of Weekly_sales with unemployment, CPI and fuel price is low, still we will \n",
    "# check the P value to confirm"
   ]
  },
  {
   "cell_type": "code",
   "execution_count": 58,
   "id": "2e730c43",
   "metadata": {},
   "outputs": [
    {
     "data": {
      "text/plain": [
       "Weekly_Sales    0\n",
       "Holiday_Flag    0\n",
       "Temperature     0\n",
       "Fuel_Price      0\n",
       "CPI             0\n",
       "Unemployment    0\n",
       "dtype: int64"
      ]
     },
     "execution_count": 58,
     "metadata": {},
     "output_type": "execute_result"
    }
   ],
   "source": [
    "#now we will check if there are null values\n",
    "store1lr.isna().sum()"
   ]
  },
  {
   "cell_type": "code",
   "execution_count": 59,
   "id": "aaef204e",
   "metadata": {},
   "outputs": [
    {
     "data": {
      "text/plain": [
       "<AxesSubplot:xlabel='Unemployment', ylabel='Weekly_Sales'>"
      ]
     },
     "execution_count": 59,
     "metadata": {},
     "output_type": "execute_result"
    },
    {
     "data": {
      "image/png": "[encoded data removed]",
      "text/plain": [
       "<Figure size 720x864 with 5 Axes>"
      ]
     },
     "metadata": {
      "needs_background": "light"
     },
     "output_type": "display_data"
    }
   ],
   "source": [
    "#first we will draw the scatterplot to check\n",
    "fig,axs = plt.subplots(5,1,sharey = True)\n",
    "store1lr.plot(kind = 'scatter',x = 'Holiday_Flag',y = 'Weekly_Sales',ax = axs[0],figsize = (10,12))\n",
    "store1lr.plot(kind = 'scatter',x = 'Temperature',y = 'Weekly_Sales',ax = axs[1],figsize = (10,12))\n",
    "store1lr.plot(kind = 'scatter',x = 'Fuel_Price',y = 'Weekly_Sales',ax = axs[2],figsize = (10,12))\n",
    "store1lr.plot(kind = 'scatter',x = 'CPI',y = 'Weekly_Sales',ax = axs[3],figsize = (10,12))\n",
    "store1lr.plot(kind = 'scatter',x = 'Unemployment',y = 'Weekly_Sales',ax = axs[4],figsize = (10,12))"
   ]
  },
  {
   "cell_type": "code",
   "execution_count": 60,
   "id": "e8605789",
   "metadata": {},
   "outputs": [],
   "source": [
    "#first we will divide the data in x and y variables\n",
    "x = store1lr[['Holiday_Flag','Temperature','Fuel_Price','CPI','Unemployment']]\n",
    "y = store1lr.Weekly_Sales\n",
    "#now we will divide the data in train test split\n",
    "from sklearn.model_selection import train_test_split\n",
    "xtrain,xtest,ytrain,ytest = train_test_split(x,y,test_size = 0.3,random_state = 100)"
   ]
  },
  {
   "cell_type": "code",
   "execution_count": 61,
   "id": "bb397d20",
   "metadata": {},
   "outputs": [],
   "source": [
    "#now we will import the linear regression model and train it\n",
    "from sklearn.linear_model import LinearRegression\n",
    "lr = LinearRegression()"
   ]
  },
  {
   "cell_type": "code",
   "execution_count": 62,
   "id": "50f049fd",
   "metadata": {},
   "outputs": [
    {
     "name": "stdout",
     "output_type": "stream",
     "text": [
      "-3820890.0836359607\n",
      "[122370.64806455  -1683.19494611 -36571.4448082   21715.21328033\n",
      " 119555.66203988]\n"
     ]
    }
   ],
   "source": [
    "#now we will train it\n",
    "lr.fit(xtrain,ytrain)\n",
    "print(lr.intercept_)\n",
    "print(lr.coef_)"
   ]
  },
  {
   "cell_type": "code",
   "execution_count": 63,
   "id": "ba118b5b",
   "metadata": {},
   "outputs": [],
   "source": [
    "#now we will make the predictions\n",
    "pred = lr.predict(xtest)"
   ]
  },
  {
   "cell_type": "code",
   "execution_count": 64,
   "id": "06371a61",
   "metadata": {},
   "outputs": [],
   "source": [
    "#now we will check the mean squared error\n",
    "from math import sqrt\n",
    "from sklearn.metrics import r2_score,mean_squared_error\n",
    "import statsmodels.api as sm"
   ]
  },
  {
   "cell_type": "code",
   "execution_count": 65,
   "id": "53e44895",
   "metadata": {},
   "outputs": [
    {
     "name": "stdout",
     "output_type": "stream",
     "text": [
      "Root Mean Squared error :  177211.25085710708\n",
      "10% of mean of target :  155458.32867000008\n"
     ]
    }
   ],
   "source": [
    "print('Root Mean Squared error : ',sqrt(mean_squared_error(ytest,pred)))\n",
    "print('10% of mean of target : ',0.1 * ytrain.mean())"
   ]
  },
  {
   "cell_type": "code",
   "execution_count": 66,
   "id": "86769d97",
   "metadata": {},
   "outputs": [],
   "source": [
    "#since RMSE should be <= 10% of mean of the target,\n",
    "# we will recheck our model by finding the adjusted r2 value"
   ]
  },
  {
   "cell_type": "code",
   "execution_count": 67,
   "id": "236f4118",
   "metadata": {},
   "outputs": [
    {
     "name": "stdout",
     "output_type": "stream",
     "text": [
      "                            OLS Regression Results                            \n",
      "==============================================================================\n",
      "Dep. Variable:           Weekly_Sales   R-squared:                       0.149\n",
      "Model:                            OLS   Adj. R-squared:                  0.118\n",
      "Method:                 Least Squares   F-statistic:                     4.815\n",
      "Date:                Wed, 22 Jun 2022   Prob (F-statistic):           0.000436\n",
      "Time:                        16:45:33   Log-Likelihood:                -1900.8\n",
      "No. Observations:                 143   AIC:                             3814.\n",
      "Df Residuals:                     137   BIC:                             3831.\n",
      "Df Model:                           5                                         \n",
      "Covariance Type:            nonrobust                                         \n",
      "================================================================================\n",
      "                   coef    std err          t      P>|t|      [0.025      0.975]\n",
      "--------------------------------------------------------------------------------\n",
      "const        -2.428e+06   1.75e+06     -1.385      0.168   -5.89e+06    1.04e+06\n",
      "Holiday_Flag  8.938e+04   4.93e+04      1.811      0.072   -8187.359    1.87e+05\n",
      "Temperature  -2160.4183    922.044     -2.343      0.021   -3983.696    -337.141\n",
      "Fuel_Price   -2.434e+04   4.73e+04     -0.514      0.608   -1.18e+05    6.93e+04\n",
      "CPI           1.663e+04   6786.094      2.451      0.016    3212.560    3.01e+04\n",
      "Unemployment  8.021e+04   5.87e+04      1.366      0.174   -3.59e+04    1.96e+05\n",
      "==============================================================================\n",
      "Omnibus:                       87.674   Durbin-Watson:                   1.724\n",
      "Prob(Omnibus):                  0.000   Jarque-Bera (JB):              645.562\n",
      "Skew:                           2.069   Prob(JB):                    6.58e-141\n",
      "Kurtosis:                      12.551   Cond. No.                     3.25e+04\n",
      "==============================================================================\n",
      "\n",
      "Notes:\n",
      "[1] Standard Errors assume that the covariance matrix of the errors is correctly specified.\n",
      "[2] The condition number is large, 3.25e+04. This might indicate that there are\n",
      "strong multicollinearity or other numerical problems.\n"
     ]
    },
    {
     "name": "stderr",
     "output_type": "stream",
     "text": [
      "/Users/priyanshkhandelwal/opt/anaconda3/lib/python3.9/site-packages/statsmodels/tsa/tsatools.py:142: FutureWarning: In a future version of pandas all arguments of concat except for the argument 'objs' will be keyword-only\n",
      "  x = pd.concat(x[::order], 1)\n"
     ]
    }
   ],
   "source": [
    "X2 = sm.add_constant(x)\n",
    "est = sm.OLS(y,X2)\n",
    "est2 = est.fit()\n",
    "print(est2.summary())"
   ]
  },
  {
   "cell_type": "code",
   "execution_count": 68,
   "id": "f6230a13",
   "metadata": {},
   "outputs": [],
   "source": [
    "#our adjusted r2 value is .11, which is not at all good\n",
    "#we can drop the features with pvalue > 0.5\n",
    "#but we will do ElasticNet regularizing LR on it"
   ]
  },
  {
   "cell_type": "markdown",
   "id": "ef378efb",
   "metadata": {},
   "source": [
    "#### From the above table, we can confirm that Fuel_price and Unemployment does not have a lot of effect on the sales, so we can drop them"
   ]
  },
  {
   "cell_type": "markdown",
   "id": "62a2fcab",
   "metadata": {},
   "source": [
    "### now we will do the elastic net regularising LR on this data"
   ]
  },
  {
   "cell_type": "code",
   "execution_count": 69,
   "id": "27c9e2e9",
   "metadata": {},
   "outputs": [],
   "source": [
    "from sklearn.linear_model import ElasticNet\n",
    "from sklearn.model_selection import GridSearchCV\n",
    "\n",
    "alpha_values = {'alpha':[0.00005,0.0005,0.001, 0.01, 0.05, 0.06, 0.08, 1, 2, 3, 5, 8, 10, 20, 50, 100],\n",
    " 'l1_ratio':[0,0.1,0.2,0.3,0.4,0.5,0.6,0.7,0.8,0.9, 0.95,0.99,1]}\n",
    "\n",
    "elastic = GridSearchCV(ElasticNet(), alpha_values, scoring='neg_mean_squared_error', cv=10)"
   ]
  },
  {
   "cell_type": "code",
   "execution_count": 70,
   "id": "7c0fe142",
   "metadata": {},
   "outputs": [
    {
     "data": {
      "text/plain": [
       "{'alpha': 3, 'l1_ratio': 0.3}"
      ]
     },
     "execution_count": 70,
     "metadata": {},
     "output_type": "execute_result"
    }
   ],
   "source": [
    "import warnings\n",
    "warnings.filterwarnings('ignore')\n",
    "\n",
    "elastic.fit(x,y).best_params_"
   ]
  },
  {
   "cell_type": "code",
   "execution_count": 71,
   "id": "3d927435",
   "metadata": {},
   "outputs": [
    {
     "data": {
      "text/plain": [
       "-22532461081.296345"
      ]
     },
     "execution_count": 71,
     "metadata": {},
     "output_type": "execute_result"
    }
   ],
   "source": [
    "import warnings\n",
    "warnings.filterwarnings('ignore')\n",
    "\n",
    "elastic.fit(x,y).best_score_"
   ]
  },
  {
   "cell_type": "code",
   "execution_count": 72,
   "id": "14386e59",
   "metadata": {},
   "outputs": [
    {
     "name": "stdout",
     "output_type": "stream",
     "text": [
      "RMSE :  150108.16460571473\n"
     ]
    }
   ],
   "source": [
    "print('RMSE : ',sqrt(-elastic.fit(x,y).best_score_))"
   ]
  },
  {
   "cell_type": "code",
   "execution_count": 73,
   "id": "7202f0a7",
   "metadata": {},
   "outputs": [
    {
     "name": "stdout",
     "output_type": "stream",
     "text": [
      "10% of mean of target :  155458.32867000008\n"
     ]
    }
   ],
   "source": [
    "print('10% of mean of target : ',0.1 * ytrain.mean())"
   ]
  },
  {
   "cell_type": "markdown",
   "id": "b3a355d0",
   "metadata": {},
   "source": [
    "### As we can see, the RMSE has decreased by quite a lot, but we can still go further and check for other models as well, wether the RMSE will decrese or not"
   ]
  },
  {
   "cell_type": "markdown",
   "id": "06ebd028",
   "metadata": {},
   "source": [
    "#### Now we will try the decision tree regressor"
   ]
  },
  {
   "cell_type": "code",
   "execution_count": 74,
   "id": "927836b6",
   "metadata": {},
   "outputs": [
    {
     "data": {
      "text/html": [
       "<div>\n",
       "<style scoped>\n",
       "    .dataframe tbody tr th:only-of-type {\n",
       "        vertical-align: middle;\n",
       "    }\n",
       "\n",
       "    .dataframe tbody tr th {\n",
       "        vertical-align: top;\n",
       "    }\n",
       "\n",
       "    .dataframe thead th {\n",
       "        text-align: right;\n",
       "    }\n",
       "</style>\n",
       "<table border=\"1\" class=\"dataframe\">\n",
       "  <thead>\n",
       "    <tr style=\"text-align: right;\">\n",
       "      <th></th>\n",
       "      <th>Weekly_Sales</th>\n",
       "      <th>Holiday_Flag</th>\n",
       "      <th>Temperature</th>\n",
       "      <th>Fuel_Price</th>\n",
       "      <th>CPI</th>\n",
       "      <th>Unemployment</th>\n",
       "    </tr>\n",
       "  </thead>\n",
       "  <tbody>\n",
       "    <tr>\n",
       "      <th>count</th>\n",
       "      <td>1.430000e+02</td>\n",
       "      <td>143.000000</td>\n",
       "      <td>143.000000</td>\n",
       "      <td>143.000000</td>\n",
       "      <td>143.000000</td>\n",
       "      <td>143.000000</td>\n",
       "    </tr>\n",
       "    <tr>\n",
       "      <th>mean</th>\n",
       "      <td>1.555264e+06</td>\n",
       "      <td>0.069930</td>\n",
       "      <td>68.306783</td>\n",
       "      <td>3.219699</td>\n",
       "      <td>215.996892</td>\n",
       "      <td>7.610420</td>\n",
       "    </tr>\n",
       "    <tr>\n",
       "      <th>std</th>\n",
       "      <td>1.559808e+05</td>\n",
       "      <td>0.255926</td>\n",
       "      <td>14.250486</td>\n",
       "      <td>0.427313</td>\n",
       "      <td>4.350890</td>\n",
       "      <td>0.383749</td>\n",
       "    </tr>\n",
       "    <tr>\n",
       "      <th>min</th>\n",
       "      <td>1.316899e+06</td>\n",
       "      <td>0.000000</td>\n",
       "      <td>35.400000</td>\n",
       "      <td>2.514000</td>\n",
       "      <td>210.337426</td>\n",
       "      <td>6.573000</td>\n",
       "    </tr>\n",
       "    <tr>\n",
       "      <th>25%</th>\n",
       "      <td>1.458105e+06</td>\n",
       "      <td>0.000000</td>\n",
       "      <td>58.265000</td>\n",
       "      <td>2.764500</td>\n",
       "      <td>211.549277</td>\n",
       "      <td>7.348000</td>\n",
       "    </tr>\n",
       "    <tr>\n",
       "      <th>50%</th>\n",
       "      <td>1.534850e+06</td>\n",
       "      <td>0.000000</td>\n",
       "      <td>69.640000</td>\n",
       "      <td>3.290000</td>\n",
       "      <td>215.459905</td>\n",
       "      <td>7.787000</td>\n",
       "    </tr>\n",
       "    <tr>\n",
       "      <th>75%</th>\n",
       "      <td>1.614892e+06</td>\n",
       "      <td>0.000000</td>\n",
       "      <td>80.485000</td>\n",
       "      <td>3.594000</td>\n",
       "      <td>220.531330</td>\n",
       "      <td>7.838000</td>\n",
       "    </tr>\n",
       "    <tr>\n",
       "      <th>max</th>\n",
       "      <td>2.387950e+06</td>\n",
       "      <td>1.000000</td>\n",
       "      <td>91.650000</td>\n",
       "      <td>3.907000</td>\n",
       "      <td>223.444251</td>\n",
       "      <td>8.106000</td>\n",
       "    </tr>\n",
       "  </tbody>\n",
       "</table>\n",
       "</div>"
      ],
      "text/plain": [
       "       Weekly_Sales  Holiday_Flag  Temperature  Fuel_Price         CPI  \\\n",
       "count  1.430000e+02    143.000000   143.000000  143.000000  143.000000   \n",
       "mean   1.555264e+06      0.069930    68.306783    3.219699  215.996892   \n",
       "std    1.559808e+05      0.255926    14.250486    0.427313    4.350890   \n",
       "min    1.316899e+06      0.000000    35.400000    2.514000  210.337426   \n",
       "25%    1.458105e+06      0.000000    58.265000    2.764500  211.549277   \n",
       "50%    1.534850e+06      0.000000    69.640000    3.290000  215.459905   \n",
       "75%    1.614892e+06      0.000000    80.485000    3.594000  220.531330   \n",
       "max    2.387950e+06      1.000000    91.650000    3.907000  223.444251   \n",
       "\n",
       "       Unemployment  \n",
       "count    143.000000  \n",
       "mean       7.610420  \n",
       "std        0.383749  \n",
       "min        6.573000  \n",
       "25%        7.348000  \n",
       "50%        7.787000  \n",
       "75%        7.838000  \n",
       "max        8.106000  "
      ]
     },
     "execution_count": 74,
     "metadata": {},
     "output_type": "execute_result"
    }
   ],
   "source": [
    "store1.describe()"
   ]
  },
  {
   "cell_type": "code",
   "execution_count": 75,
   "id": "00b094e0",
   "metadata": {},
   "outputs": [
    {
     "data": {
      "text/plain": [
       "DecisionTreeRegressor()"
      ]
     },
     "execution_count": 75,
     "metadata": {},
     "output_type": "execute_result"
    }
   ],
   "source": [
    "xtrain,xtest,ytrain,ytest = train_test_split(x,y,test_size = 0.2,random_state = 100)\n",
    "\n",
    "\n",
    "from sklearn.tree import DecisionTreeRegressor\n",
    "reg = DecisionTreeRegressor()\n",
    "reg.fit(xtrain,ytrain)"
   ]
  },
  {
   "cell_type": "code",
   "execution_count": 76,
   "id": "39a6ad7d",
   "metadata": {},
   "outputs": [],
   "source": [
    "Tpred = reg.predict(xtest)"
   ]
  },
  {
   "cell_type": "code",
   "execution_count": 77,
   "id": "223e1397",
   "metadata": {},
   "outputs": [
    {
     "name": "stdout",
     "output_type": "stream",
     "text": [
      "Root Mean Squared Error: 269613.25933008577\n"
     ]
    }
   ],
   "source": [
    "print('Root Mean Squared Error:', np.sqrt(mean_squared_error(ytest, Tpred)))  "
   ]
  },
  {
   "cell_type": "markdown",
   "id": "61d16036",
   "metadata": {},
   "source": [
    "### From the above model, we can confirm that ElasticNet is the best Model for this dataset"
   ]
  },
  {
   "cell_type": "markdown",
   "id": "d2e1f274",
   "metadata": {},
   "source": [
    "## Change dates into days by creating new variable."
   ]
  },
  {
   "cell_type": "code",
   "execution_count": 78,
   "id": "7a5f50ee",
   "metadata": {},
   "outputs": [
    {
     "data": {
      "text/html": [
       "<div>\n",
       "<style scoped>\n",
       "    .dataframe tbody tr th:only-of-type {\n",
       "        vertical-align: middle;\n",
       "    }\n",
       "\n",
       "    .dataframe tbody tr th {\n",
       "        vertical-align: top;\n",
       "    }\n",
       "\n",
       "    .dataframe thead th {\n",
       "        text-align: right;\n",
       "    }\n",
       "</style>\n",
       "<table border=\"1\" class=\"dataframe\">\n",
       "  <thead>\n",
       "    <tr style=\"text-align: right;\">\n",
       "      <th></th>\n",
       "      <th>Store</th>\n",
       "      <th>Date</th>\n",
       "      <th>Weekly_Sales</th>\n",
       "      <th>Holiday_Flag</th>\n",
       "      <th>Temperature</th>\n",
       "      <th>Fuel_Price</th>\n",
       "      <th>CPI</th>\n",
       "      <th>Unemployment</th>\n",
       "      <th>DateTime</th>\n",
       "      <th>Month</th>\n",
       "      <th>Year</th>\n",
       "      <th>Quarter</th>\n",
       "    </tr>\n",
       "  </thead>\n",
       "  <tbody>\n",
       "    <tr>\n",
       "      <th>0</th>\n",
       "      <td>1</td>\n",
       "      <td>05-02-2010</td>\n",
       "      <td>1643690.90</td>\n",
       "      <td>0</td>\n",
       "      <td>42.31</td>\n",
       "      <td>2.572</td>\n",
       "      <td>211.096358</td>\n",
       "      <td>8.106</td>\n",
       "      <td>2010-05-02</td>\n",
       "      <td>5</td>\n",
       "      <td>2010</td>\n",
       "      <td>2</td>\n",
       "    </tr>\n",
       "    <tr>\n",
       "      <th>1</th>\n",
       "      <td>1</td>\n",
       "      <td>12-02-2010</td>\n",
       "      <td>1641957.44</td>\n",
       "      <td>1</td>\n",
       "      <td>38.51</td>\n",
       "      <td>2.548</td>\n",
       "      <td>211.242170</td>\n",
       "      <td>8.106</td>\n",
       "      <td>2010-12-02</td>\n",
       "      <td>12</td>\n",
       "      <td>2010</td>\n",
       "      <td>4</td>\n",
       "    </tr>\n",
       "    <tr>\n",
       "      <th>2</th>\n",
       "      <td>1</td>\n",
       "      <td>19-02-2010</td>\n",
       "      <td>1611968.17</td>\n",
       "      <td>0</td>\n",
       "      <td>39.93</td>\n",
       "      <td>2.514</td>\n",
       "      <td>211.289143</td>\n",
       "      <td>8.106</td>\n",
       "      <td>2010-02-19</td>\n",
       "      <td>2</td>\n",
       "      <td>2010</td>\n",
       "      <td>1</td>\n",
       "    </tr>\n",
       "    <tr>\n",
       "      <th>3</th>\n",
       "      <td>1</td>\n",
       "      <td>26-02-2010</td>\n",
       "      <td>1409727.59</td>\n",
       "      <td>0</td>\n",
       "      <td>46.63</td>\n",
       "      <td>2.561</td>\n",
       "      <td>211.319643</td>\n",
       "      <td>8.106</td>\n",
       "      <td>2010-02-26</td>\n",
       "      <td>2</td>\n",
       "      <td>2010</td>\n",
       "      <td>1</td>\n",
       "    </tr>\n",
       "    <tr>\n",
       "      <th>4</th>\n",
       "      <td>1</td>\n",
       "      <td>05-03-2010</td>\n",
       "      <td>1554806.68</td>\n",
       "      <td>0</td>\n",
       "      <td>46.50</td>\n",
       "      <td>2.625</td>\n",
       "      <td>211.350143</td>\n",
       "      <td>8.106</td>\n",
       "      <td>2010-05-03</td>\n",
       "      <td>5</td>\n",
       "      <td>2010</td>\n",
       "      <td>2</td>\n",
       "    </tr>\n",
       "  </tbody>\n",
       "</table>\n",
       "</div>"
      ],
      "text/plain": [
       "   Store        Date  Weekly_Sales  Holiday_Flag  Temperature  Fuel_Price  \\\n",
       "0      1  05-02-2010    1643690.90             0        42.31       2.572   \n",
       "1      1  12-02-2010    1641957.44             1        38.51       2.548   \n",
       "2      1  19-02-2010    1611968.17             0        39.93       2.514   \n",
       "3      1  26-02-2010    1409727.59             0        46.63       2.561   \n",
       "4      1  05-03-2010    1554806.68             0        46.50       2.625   \n",
       "\n",
       "          CPI  Unemployment   DateTime  Month  Year  Quarter  \n",
       "0  211.096358         8.106 2010-05-02      5  2010        2  \n",
       "1  211.242170         8.106 2010-12-02     12  2010        4  \n",
       "2  211.289143         8.106 2010-02-19      2  2010        1  \n",
       "3  211.319643         8.106 2010-02-26      2  2010        1  \n",
       "4  211.350143         8.106 2010-05-03      5  2010        2  "
      ]
     },
     "execution_count": 78,
     "metadata": {},
     "output_type": "execute_result"
    }
   ],
   "source": [
    "df.head()"
   ]
  },
  {
   "cell_type": "code",
   "execution_count": 79,
   "id": "14c8f396",
   "metadata": {},
   "outputs": [],
   "source": [
    "df['Day'] = pd.to_datetime(df['Date']).dt.day_name()"
   ]
  },
  {
   "cell_type": "code",
   "execution_count": 80,
   "id": "97dfd439",
   "metadata": {},
   "outputs": [
    {
     "data": {
      "text/html": [
       "<div>\n",
       "<style scoped>\n",
       "    .dataframe tbody tr th:only-of-type {\n",
       "        vertical-align: middle;\n",
       "    }\n",
       "\n",
       "    .dataframe tbody tr th {\n",
       "        vertical-align: top;\n",
       "    }\n",
       "\n",
       "    .dataframe thead th {\n",
       "        text-align: right;\n",
       "    }\n",
       "</style>\n",
       "<table border=\"1\" class=\"dataframe\">\n",
       "  <thead>\n",
       "    <tr style=\"text-align: right;\">\n",
       "      <th></th>\n",
       "      <th>Store</th>\n",
       "      <th>Date</th>\n",
       "      <th>Weekly_Sales</th>\n",
       "      <th>Holiday_Flag</th>\n",
       "      <th>Temperature</th>\n",
       "      <th>Fuel_Price</th>\n",
       "      <th>CPI</th>\n",
       "      <th>Unemployment</th>\n",
       "      <th>DateTime</th>\n",
       "      <th>Month</th>\n",
       "      <th>Year</th>\n",
       "      <th>Quarter</th>\n",
       "      <th>Day</th>\n",
       "    </tr>\n",
       "  </thead>\n",
       "  <tbody>\n",
       "    <tr>\n",
       "      <th>0</th>\n",
       "      <td>1</td>\n",
       "      <td>05-02-2010</td>\n",
       "      <td>1643690.90</td>\n",
       "      <td>0</td>\n",
       "      <td>42.31</td>\n",
       "      <td>2.572</td>\n",
       "      <td>211.096358</td>\n",
       "      <td>8.106</td>\n",
       "      <td>2010-05-02</td>\n",
       "      <td>5</td>\n",
       "      <td>2010</td>\n",
       "      <td>2</td>\n",
       "      <td>Sunday</td>\n",
       "    </tr>\n",
       "    <tr>\n",
       "      <th>1</th>\n",
       "      <td>1</td>\n",
       "      <td>12-02-2010</td>\n",
       "      <td>1641957.44</td>\n",
       "      <td>1</td>\n",
       "      <td>38.51</td>\n",
       "      <td>2.548</td>\n",
       "      <td>211.242170</td>\n",
       "      <td>8.106</td>\n",
       "      <td>2010-12-02</td>\n",
       "      <td>12</td>\n",
       "      <td>2010</td>\n",
       "      <td>4</td>\n",
       "      <td>Thursday</td>\n",
       "    </tr>\n",
       "    <tr>\n",
       "      <th>2</th>\n",
       "      <td>1</td>\n",
       "      <td>19-02-2010</td>\n",
       "      <td>1611968.17</td>\n",
       "      <td>0</td>\n",
       "      <td>39.93</td>\n",
       "      <td>2.514</td>\n",
       "      <td>211.289143</td>\n",
       "      <td>8.106</td>\n",
       "      <td>2010-02-19</td>\n",
       "      <td>2</td>\n",
       "      <td>2010</td>\n",
       "      <td>1</td>\n",
       "      <td>Friday</td>\n",
       "    </tr>\n",
       "    <tr>\n",
       "      <th>3</th>\n",
       "      <td>1</td>\n",
       "      <td>26-02-2010</td>\n",
       "      <td>1409727.59</td>\n",
       "      <td>0</td>\n",
       "      <td>46.63</td>\n",
       "      <td>2.561</td>\n",
       "      <td>211.319643</td>\n",
       "      <td>8.106</td>\n",
       "      <td>2010-02-26</td>\n",
       "      <td>2</td>\n",
       "      <td>2010</td>\n",
       "      <td>1</td>\n",
       "      <td>Friday</td>\n",
       "    </tr>\n",
       "    <tr>\n",
       "      <th>4</th>\n",
       "      <td>1</td>\n",
       "      <td>05-03-2010</td>\n",
       "      <td>1554806.68</td>\n",
       "      <td>0</td>\n",
       "      <td>46.50</td>\n",
       "      <td>2.625</td>\n",
       "      <td>211.350143</td>\n",
       "      <td>8.106</td>\n",
       "      <td>2010-05-03</td>\n",
       "      <td>5</td>\n",
       "      <td>2010</td>\n",
       "      <td>2</td>\n",
       "      <td>Monday</td>\n",
       "    </tr>\n",
       "  </tbody>\n",
       "</table>\n",
       "</div>"
      ],
      "text/plain": [
       "   Store        Date  Weekly_Sales  Holiday_Flag  Temperature  Fuel_Price  \\\n",
       "0      1  05-02-2010    1643690.90             0        42.31       2.572   \n",
       "1      1  12-02-2010    1641957.44             1        38.51       2.548   \n",
       "2      1  19-02-2010    1611968.17             0        39.93       2.514   \n",
       "3      1  26-02-2010    1409727.59             0        46.63       2.561   \n",
       "4      1  05-03-2010    1554806.68             0        46.50       2.625   \n",
       "\n",
       "          CPI  Unemployment   DateTime  Month  Year  Quarter       Day  \n",
       "0  211.096358         8.106 2010-05-02      5  2010        2    Sunday  \n",
       "1  211.242170         8.106 2010-12-02     12  2010        4  Thursday  \n",
       "2  211.289143         8.106 2010-02-19      2  2010        1    Friday  \n",
       "3  211.319643         8.106 2010-02-26      2  2010        1    Friday  \n",
       "4  211.350143         8.106 2010-05-03      5  2010        2    Monday  "
      ]
     },
     "execution_count": 80,
     "metadata": {},
     "output_type": "execute_result"
    }
   ],
   "source": [
    "df.head()"
   ]
  }
 ],
 "metadata": {
  "kernelspec": {
   "display_name": "Python 3 (ipykernel)",
   "language": "python",
   "name": "python3"
  },
  "language_info": {
   "codemirror_mode": {
    "name": "ipython",
    "version": 3
   },
   "file_extension": ".py",
   "mimetype": "text/x-python",
   "name": "python",
   "nbconvert_exporter": "python",
   "pygments_lexer": "ipython3",
   "version": "3.9.7"
  }
 },
 "nbformat": 4,
 "nbformat_minor": 5
}
